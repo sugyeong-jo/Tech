{
 "cells": [
  {
   "cell_type": "markdown",
   "metadata": {},
   "source": [
    "본문은 권창현 교수님의 줄리아 책, julia programming for Operations Rsearch를 참고하여 정리하였습니다.\n",
    "> https://www.softcover.io/read/7b8eb7d0/juliabook2/frontmatter\n",
    "\n",
    "\n",
    "# Chapter 2. Simple Linear Optimization\n",
    "\n",
    "## 2.1 Linear programming (LP) Problems\n",
    "\n",
    "\n",
    "$$max \\sum_{i=1}^3 c_i x_i$$\n",
    "\n",
    "subject to\n",
    "\n",
    "$$\\mathbf{Ax \\le b}$$\n",
    "\n",
    "=\n",
    "$$-x_1 + x_2 +3x_3 \\le -5$$\n",
    "$$x_1 + 3x_2 -7x_3 \\le 10$$\n",
    "$$0\\le x_i, i = \\{1,2,3\\} $$\n",
    "$$x_1\\le10$$\n"
   ]
  },
  {
   "cell_type": "code",
   "execution_count": 2,
   "metadata": {},
   "outputs": [
    {
     "name": "stdout",
     "output_type": "stream",
     "text": [
      "Max x1 + 2 x2 + 5 x3\n",
      "Subject to\n",
      " constraint1 : -x1 + x2 + 3 x3 ≤ -5.0\n",
      " constraint2 : x1 + 3 x2 - 7 x3 ≤ 10.0\n",
      " x1 ≥ 0.0\n",
      " x2 ≥ 0.0\n",
      " x3 ≥ 0.0\n",
      " x1 ≤ 10.0\n"
     ]
    },
    {
     "name": "stderr",
     "output_type": "stream",
     "text": [
      "┌ Warning: `with_optimizer` is deprecated. Adapt the following example to update your code:\n",
      "│ `with_optimizer(Ipopt.Optimizer)` becomes `Ipopt.Optimizer`.\n",
      "│   caller = top-level scope at In[2]:2\n",
      "└ @ Core In[2]:2\n"
     ]
    }
   ],
   "source": [
    "using JuMP, Clp\n",
    "\n",
    "#=\n",
    "모델을 선언해준다. 여기서는 Clp를 사용했다.\n",
    "=#\n",
    "m = Model(with_optimizer(Clp.Optimizer))\n",
    "\n",
    "\n",
    "#=\n",
    "변수를 선언해준다.\n",
    "@variable은 JuMP 패키지에서 macros라고 하며, 이는 작업을 반복적으로 해준다.\n",
    "@objective도 함께 해준다!\n",
    "=#\n",
    "@variable(m, 0<= x1 <=10)\n",
    "@variable(m, x2 >=0)\n",
    "@variable(m, x3 >=0)\n",
    "\n",
    "@objective(m, Max, x1 + 2x2 + 5x3)\n",
    "\n",
    "#=\n",
    "'constraint1, 2'는 제약조건의 이름이며, 이는 추후 dual variable 값들과 연관된 것을 찾을때 유용하다.\n",
    "=#\n",
    "@constraint(m, constraint1, -x1 + x2 + 3x3 <= -5)\n",
    "@constraint(m, constraint2, x1 + 3x2 - 7x3 <= 10)\n",
    "\n",
    "#=\n",
    "모델을 확인해준다.\n",
    "=#\n",
    "print(m)"
   ]
  },
  {
   "cell_type": "code",
   "execution_count": 3,
   "metadata": {},
   "outputs": [
    {
     "name": "stdout",
     "output_type": "stream",
     "text": [
      "Coin0506I Presolve 2 (0) rows, 3 (0) columns and 6 (0) elements\n",
      "Clp0006I 0  Obj 0 Primal inf 1.6666666 (1) Dual inf 12.666666 (3)\n",
      "Clp0006I 2  Obj 19.0625\n",
      "Clp0000I Optimal - objective value 19.0625\n",
      "Clp0032I Optimal objective 19.0625 - 2 iterations time 0.002\n"
     ]
    }
   ],
   "source": [
    "#=\n",
    "솔버를 작동!\n",
    "=#\n",
    "JuMP.optimize!(m)"
   ]
  },
  {
   "cell_type": "code",
   "execution_count": 4,
   "metadata": {},
   "outputs": [
    {
     "name": "stdout",
     "output_type": "stream",
     "text": [
      "Optimal solutions:\n",
      "x1 = 10.0\n",
      "x2 = 2.1875\n",
      "x3 = 0.9374999999999999\n",
      "Dual Variables:\n",
      "dual1 = 1.8125\n",
      "dual2 = 0.0625\n",
      "Dual Variables (conic):\n",
      "dual1 = -1.8125\n",
      "dual2 = -0.0625\n"
     ]
    }
   ],
   "source": [
    "#=\n",
    "JuMP.value()에 결과값들이 있다. \n",
    "여기서 println()은 결과값을 프린트하고 한 줄을 띈다. 그렇게 하고 싶지 않다면 print()를 사용하자.\n",
    "=#\n",
    "println(\"Optimal solutions:\")\n",
    "println(\"x1 = \", JuMP.value(x1))\n",
    "println(\"x2 = \", JuMP.value(x2))\n",
    "println(\"x3 = \", JuMP.value(x3))\n",
    "\n",
    "#=\n",
    "optimal dual variables 값들을 얻기 위해 JuMP.shadow_price()를 제약조건 이름과 함께 사용한다.\n",
    "=#\n",
    "println(\"Dual Variables:\")\n",
    "println(\"dual1 = \", JuMP.shadow_price(constraint1))\n",
    "println(\"dual2 = \", JuMP.shadow_price(constraint2))\n",
    "\n",
    "#=\n",
    "JuMP.dual()이라는 함수도 정의되어있다. 하지만 이 사인은 기대했던 결과가 아닌데, conic duality의 규칙을 따르기 때문이다.\n",
    "선형 최적화 문제의 경우 JuMP.shadow_price()가 대부분의 표준 교과서에와 같은 값을 제공한다.\n",
    "=#\n",
    "println(\"Dual Variables (conic):\")\n",
    "println(\"dual1 = \", JuMP.dual(constraint1))\n",
    "println(\"dual2 = \", JuMP.dual(constraint2))"
   ]
  },
  {
   "cell_type": "markdown",
   "metadata": {},
   "source": [
    "## 2.2 Alternative Ways of Writing LP Problems"
   ]
  },
  {
   "cell_type": "markdown",
   "metadata": {},
   "source": [
    "위 예제는 array 로 변수를 정했다. 하지만 다음과 같이 vector로도 할수 있다."
   ]
  },
  {
   "cell_type": "code",
   "execution_count": 11,
   "metadata": {},
   "outputs": [
    {
     "name": "stderr",
     "output_type": "stream",
     "text": [
      "┌ Warning: `with_optimizer` is deprecated. Adapt the following example to update your code:\n",
      "│ `with_optimizer(Ipopt.Optimizer)` becomes `Ipopt.Optimizer`.\n",
      "│   caller = top-level scope at In[11]:1\n",
      "└ @ Core In[11]:1\n"
     ]
    },
    {
     "name": "stdout",
     "output_type": "stream",
     "text": [
      "Coin0506I Presolve 2 (-1) rows, 3 (0) columns and 6 (-1) elements\n",
      "Clp0006I 0  Obj 4.8999999 Primal inf 0.033332367 (1) Dual inf 12.666664 (3)\n",
      "Clp0006I 2  Obj 19.0625\n",
      "Clp0000I Optimal - objective value 19.0625\n",
      "Coin0511I After Postsolve, objective 19.0625, infeasibilities - dual 0 (0), primal 0 (0)\n",
      "Clp0032I Optimal objective 19.0625 - 2 iterations time 0.002, Presolve 0.00\n"
     ]
    }
   ],
   "source": [
    "m = Model(with_optimizer(Clp.Optimizer))\n",
    "\n",
    "@variable(m, x[1:3] >= 0)\n",
    "\n",
    "c = [1; 2; 5]\n",
    "@objective(m, Max, sum( c[i]*x[i] for i in 1:3))\n",
    "\n",
    "A =[-1 1 3; 1 3 -7] #제약조건들의 계수\n",
    "b = [-5; 10] #rhs\n",
    "\n",
    "@constraint(m, constraint1, sum( A[1, i] * x[i] for i in 1:3) <= b[1])\n",
    "@constraint(m, constraint2, sum( A[2, i] * x[i] for i in 1:3) <= b[2])\n",
    "@constraint(m, bound, x[1] <= 10)\n",
    "\n",
    "JuMP.optimize!(m)"
   ]
  },
  {
   "cell_type": "code",
   "execution_count": 12,
   "metadata": {},
   "outputs": [
    {
     "name": "stdout",
     "output_type": "stream",
     "text": [
      "Optimal solutions:\n",
      "x1 = 10.0\n",
      "x2 = 2.1875\n",
      "x3 = 0.9374999999999999\n",
      "Dual Variables:\n",
      "dual1 = 1.8125\n",
      "dual2 = 0.0625\n"
     ]
    }
   ],
   "source": [
    "println(\"Optimal solutions:\")\n",
    "println(\"x1 = \", JuMP.value(x1))\n",
    "println(\"x2 = \", JuMP.value(x2))\n",
    "println(\"x3 = \", JuMP.value(x3))\n",
    "\n",
    "println(\"Dual Variables:\")\n",
    "println(\"dual1 = \", JuMP.shadow_price(constraint1))\n",
    "println(\"dual2 = \", JuMP.shadow_price(constraint2))"
   ]
  },
  {
   "cell_type": "markdown",
   "metadata": {},
   "source": [
    "제약조건이 많아지면 다음과 같이 Dictionary를 사용하는 게 더 효과적이다."
   ]
  },
  {
   "cell_type": "code",
   "execution_count": 16,
   "metadata": {},
   "outputs": [
    {
     "name": "stderr",
     "output_type": "stream",
     "text": [
      "┌ Warning: `with_optimizer` is deprecated. Adapt the following example to update your code:\n",
      "│ `with_optimizer(Ipopt.Optimizer)` becomes `Ipopt.Optimizer`.\n",
      "│   caller = top-level scope at In[16]:1\n",
      "└ @ Core In[16]:1\n"
     ]
    },
    {
     "name": "stdout",
     "output_type": "stream",
     "text": [
      "Coin0506I Presolve 2 (-1) rows, 3 (0) columns and 6 (-1) elements\n",
      "Clp0006I 0  Obj 4.8999999 Primal inf 0.033332367 (1) Dual inf 12.666664 (3)\n",
      "Clp0006I 2  Obj 19.0625\n",
      "Clp0000I Optimal - objective value 19.0625\n",
      "Coin0511I After Postsolve, objective 19.0625, infeasibilities - dual 0 (0), primal 0 (0)\n",
      "Clp0032I Optimal objective 19.0625 - 2 iterations time 0.002, Presolve 0.00\n"
     ]
    }
   ],
   "source": [
    "m = Model(with_optimizer(Clp.Optimizer))\n",
    "\n",
    "c = [ 1; 2; 5]\n",
    "A = [-1  1  3;\n",
    "      1  3 -7]\n",
    "b = [-5; 10]\n",
    "\n",
    "index_x = 1:3\n",
    "index_constraints = 1:2\n",
    "\n",
    "@variable(m, x[index_x] >= 0)\n",
    "@objective(m, Max, sum( c[i]*x[i] for i in index_x) )\n",
    "\n",
    "@constraint(m, constraint[j in index_constraints],\n",
    "               sum( A[j,i]*x[i] for i in index_x ) <= b[j] )\n",
    "@constraint(m, bound, x[1] <= 10)\n",
    "\n",
    "JuMP.optimize!(m)"
   ]
  },
  {
   "cell_type": "code",
   "execution_count": 17,
   "metadata": {},
   "outputs": [
    {
     "name": "stdout",
     "output_type": "stream",
     "text": [
      "Optimal Solutions:\n",
      "x[1] = 10.0\n",
      "x[2] = 2.1875\n",
      "x[3] = 0.9374999999999999\n",
      "Dual Variables:\n",
      "dual[1] = 1.8125\n",
      "dual[2] = 0.0625\n"
     ]
    }
   ],
   "source": [
    "println(\"Optimal Solutions:\")\n",
    "for i in 1:3\n",
    "  println(\"x[$i] = \", JuMP.value(x[i]))\n",
    "end\n",
    "\n",
    "println(\"Dual Variables:\")\n",
    "for j in 1:2\n",
    "  println(\"dual[$j] = \", JuMP.shadow_price(constraint[j]))\n",
    "end"
   ]
  },
  {
   "cell_type": "code",
   "execution_count": 109,
   "metadata": {},
   "outputs": [
    {
     "name": "stdout",
     "output_type": "stream",
     "text": [
      "Int"
     ]
    }
   ],
   "source": [
    "print(t[3])"
   ]
  },
  {
   "cell_type": "markdown",
   "metadata": {},
   "source": [
    "## 2.4 Mixed Inteer Linear Programming (MILP) Problems\n",
    "\n",
    "$$ \\max x_1 + 2x_2 + 5x_3$$\n",
    "subject to\n",
    "\n",
    "$$\n",
    "\\begin{matrix}\n",
    "-x_1+x_2+3x_3 &\\le& -5 \\\\\n",
    "x_1 +3x_2 -7x_3 &\\le&  10 \\\\\n",
    "0 \\le x_1 &\\le& 10 \\\\\n",
    "x_2 &\\ge& Integer \\\\\n",
    "x_3 &\\in& \\{0, 1\\}\n",
    "\\end{matrix}\n",
    "$$"
   ]
  },
  {
   "cell_type": "code",
   "execution_count": 116,
   "metadata": {},
   "outputs": [
    {
     "name": "stderr",
     "output_type": "stream",
     "text": [
      "┌ Warning: `with_optimizer` is deprecated. Adapt the following example to update your code:\n",
      "│ `with_optimizer(Ipopt.Optimizer)` becomes `Ipopt.Optimizer`.\n",
      "│   caller = top-level scope at In[116]:3\n",
      "└ @ Core In[116]:3\n"
     ]
    },
    {
     "name": "stdout",
     "output_type": "stream",
     "text": [
      "Bin\n"
     ]
    },
    {
     "ename": "ErrorException",
     "evalue": "Constraints of type MathOptInterface.SingleVariable-in-MathOptInterface.ZeroOne are not supported by the solver and there are no bridges that can reformulate it into supported constraints.",
     "output_type": "error",
     "traceback": [
      "Constraints of type MathOptInterface.SingleVariable-in-MathOptInterface.ZeroOne are not supported by the solver and there are no bridges that can reformulate it into supported constraints.",
      "",
      "Stacktrace:",
      " [1] error(::String) at ./error.jl:33",
      " [2] moi_add_constraint(::MathOptInterface.Utilities.CachingOptimizer{MathOptInterface.AbstractOptimizer,MathOptInterface.Utilities.UniversalFallback{MathOptInterface.Utilities.Model{Float64}}}, ::MathOptInterface.SingleVariable, ::MathOptInterface.ZeroOne) at /home/sugyeong/.julia/packages/JuMP/CZ8vV/src/constraints.jl:389",
      " [3] add_constraint(::Model, ::ScalarConstraint{VariableRef,MathOptInterface.ZeroOne}, ::String) at /home/sugyeong/.julia/packages/JuMP/CZ8vV/src/constraints.jl:403",
      " [4] macro expansion at /home/sugyeong/.julia/packages/JuMP/CZ8vV/src/macros.jl:381 [inlined]",
      " [5] top-level scope at ./In[116]:34"
     ]
    }
   ],
   "source": [
    "using MathOptInterface\n",
    "const MOI = MathOptInterface\n",
    "\n",
    "m = Model(with_optimizer(Clp.Optimizer))\n",
    "\n",
    "c = [ 1; 2; 5]\n",
    "A = [-1  1  3;\n",
    "      1  3 -7]\n",
    "b = [-5; 10]\n",
    "t = [ :Bin; :Bin; :Int]\n",
    "lb = [0;0;0]\n",
    "ub = [Inf;Inf;10]\n",
    "index_x = 1:3\n",
    "index_constraints = 1:2\n",
    "\n",
    "```\n",
    "for i in index_x\n",
    "    println(i)\n",
    "    if t[i] == \":Bin\"\n",
    "        @variable(m, x[i], Bin)\n",
    "    elseif t[i] == \":Int\"\n",
    "        @variable(m, x[i], Int)\n",
    "    else\n",
    "        @variable(m, x[i])\n",
    "    end\n",
    "end\n",
    "```\n",
    "\n",
    "@variable(m, x[i in index_x])\n",
    "\n",
    "for i in index_x\n",
    "    println(t[i])\n",
    "    if t[i] == :Bin\n",
    "        @constraint(m, x[i] in MOI.ZeroOne())\n",
    "    else t[i] == :Int\n",
    "        @constraint(m, x[i] in MOI.Integer())\n",
    "    end\n",
    "end\n",
    "\n",
    "    #@variable(m, lb[i] <= x[i] <= ub[i] for i in index_x)\n",
    "@objective(m, Max, sum( c[i]*x[i] for i in index_x) )\n",
    "@constraint(m, constraint[j in index_constraints],\n",
    "               sum( A[j,i]*x[i] for i in index_x ) <= b[j] )\n",
    "\n",
    "@constraint(m, bound[j in index_x],\n",
    "               lb[j]<= x[j] <= ub[j]  )\n",
    "\n",
    "print(m)"
   ]
  },
  {
   "cell_type": "code",
   "execution_count": 110,
   "metadata": {},
   "outputs": [
    {
     "ename": "MathOptInterface.UnsupportedConstraint{MathOptInterface.SingleVariable,MathOptInterface.ZeroOne}",
     "evalue": "MathOptInterface.UnsupportedConstraint{MathOptInterface.SingleVariable,MathOptInterface.ZeroOne}: `MathOptInterface.SingleVariable`-in-`MathOptInterface.ZeroOne` constraint is not supported by the model.",
     "output_type": "error",
     "traceback": [
      "MathOptInterface.UnsupportedConstraint{MathOptInterface.SingleVariable,MathOptInterface.ZeroOne}: `MathOptInterface.SingleVariable`-in-`MathOptInterface.ZeroOne` constraint is not supported by the model.",
      "",
      "Stacktrace:",
      " [1] bridge_type(::MathOptInterface.Bridges.LazyBridgeOptimizer{MathOptInterface.Utilities.CachingOptimizer{Clp.Optimizer,MathOptInterface.Utilities.UniversalFallback{MathOptInterface.Utilities.Model{Float64}}}}, ::Type{MathOptInterface.ZeroOne}) at /home/sugyeong/.julia/packages/MathOptInterface/XiH8D/src/Bridges/lazy_bridge_optimizer.jl:323",
      " [2] concrete_bridge_type at /home/sugyeong/.julia/packages/MathOptInterface/XiH8D/src/Bridges/Variable/bridge.jl:183 [inlined]",
      " [3] add_constrained_variable(::MathOptInterface.Bridges.LazyBridgeOptimizer{MathOptInterface.Utilities.CachingOptimizer{Clp.Optimizer,MathOptInterface.Utilities.UniversalFallback{MathOptInterface.Utilities.Model{Float64}}}}, ::MathOptInterface.ZeroOne) at /home/sugyeong/.julia/packages/MathOptInterface/XiH8D/src/Bridges/bridge_optimizer.jl:1177",
      " [4] copy_single_variable(::MathOptInterface.Bridges.LazyBridgeOptimizer{MathOptInterface.Utilities.CachingOptimizer{Clp.Optimizer,MathOptInterface.Utilities.UniversalFallback{MathOptInterface.Utilities.Model{Float64}}}}, ::MathOptInterface.Utilities.UniversalFallback{MathOptInterface.Utilities.Model{Float64}}, ::MathOptInterface.Utilities.IndexMap, ::Type{MathOptInterface.ZeroOne}) at /home/sugyeong/.julia/packages/MathOptInterface/XiH8D/src/Utilities/copy.jl:203",
      " [5] (::getfield(MathOptInterface.Utilities, Symbol(\"##127#135\")){MathOptInterface.Bridges.LazyBridgeOptimizer{MathOptInterface.Utilities.CachingOptimizer{Clp.Optimizer,MathOptInterface.Utilities.UniversalFallback{MathOptInterface.Utilities.Model{Float64}}}},MathOptInterface.Utilities.UniversalFallback{MathOptInterface.Utilities.Model{Float64}},MathOptInterface.Utilities.IndexMap})(::DataType) at ./none:0",
      " [6] iterate at ./generator.jl:47 [inlined]",
      " [7] collect(::Base.Generator{Array{DataType,1},getfield(MathOptInterface.Utilities, Symbol(\"##127#135\")){MathOptInterface.Bridges.LazyBridgeOptimizer{MathOptInterface.Utilities.CachingOptimizer{Clp.Optimizer,MathOptInterface.Utilities.UniversalFallback{MathOptInterface.Utilities.Model{Float64}}}},MathOptInterface.Utilities.UniversalFallback{MathOptInterface.Utilities.Model{Float64}},MathOptInterface.Utilities.IndexMap}}) at ./array.jl:606",
      " [8] default_copy_to(::MathOptInterface.Bridges.LazyBridgeOptimizer{MathOptInterface.Utilities.CachingOptimizer{Clp.Optimizer,MathOptInterface.Utilities.UniversalFallback{MathOptInterface.Utilities.Model{Float64}}}}, ::MathOptInterface.Utilities.UniversalFallback{MathOptInterface.Utilities.Model{Float64}}, ::Bool) at /home/sugyeong/.julia/packages/MathOptInterface/XiH8D/src/Utilities/copy.jl:325",
      " [9] #automatic_copy_to#109 at /home/sugyeong/.julia/packages/MathOptInterface/XiH8D/src/Utilities/copy.jl:15 [inlined]",
      " [10] #automatic_copy_to at ./none:0 [inlined]",
      " [11] #copy_to#3 at /home/sugyeong/.julia/packages/MathOptInterface/XiH8D/src/Bridges/bridge_optimizer.jl:268 [inlined]",
      " [12] (::getfield(MathOptInterface, Symbol(\"#kw##copy_to\")))(::NamedTuple{(:copy_names,),Tuple{Bool}}, ::typeof(MathOptInterface.copy_to), ::MathOptInterface.Bridges.LazyBridgeOptimizer{MathOptInterface.Utilities.CachingOptimizer{Clp.Optimizer,MathOptInterface.Utilities.UniversalFallback{MathOptInterface.Utilities.Model{Float64}}}}, ::MathOptInterface.Utilities.UniversalFallback{MathOptInterface.Utilities.Model{Float64}}) at ./none:0",
      " [13] attach_optimizer(::MathOptInterface.Utilities.CachingOptimizer{MathOptInterface.AbstractOptimizer,MathOptInterface.Utilities.UniversalFallback{MathOptInterface.Utilities.Model{Float64}}}) at /home/sugyeong/.julia/packages/MathOptInterface/XiH8D/src/Utilities/cachingoptimizer.jl:149",
      " [14] optimize!(::MathOptInterface.Utilities.CachingOptimizer{MathOptInterface.AbstractOptimizer,MathOptInterface.Utilities.UniversalFallback{MathOptInterface.Utilities.Model{Float64}}}) at /home/sugyeong/.julia/packages/MathOptInterface/XiH8D/src/Utilities/cachingoptimizer.jl:185",
      " [15] #optimize!#97(::Bool, ::Bool, ::Base.Iterators.Pairs{Union{},Union{},Tuple{},NamedTuple{(),Tuple{}}}, ::Function, ::Model, ::Nothing) at /home/sugyeong/.julia/packages/JuMP/CZ8vV/src/optimizer_interface.jl:131",
      " [16] optimize! at /home/sugyeong/.julia/packages/JuMP/CZ8vV/src/optimizer_interface.jl:107 [inlined] (repeats 2 times)",
      " [17] top-level scope at In[110]:1"
     ]
    }
   ],
   "source": [
    "JuMP.optimize!(m)\n",
    "\n",
    "# Printing the optimal solutions obtained\n",
    "println(\"Optimal Solutions:\")\n",
    "println(\"x1 = \", JuMP.value(x1))\n",
    "println(\"x2 = \", JuMP.value(x2))\n",
    "println(\"x3 = \", JuMP.value(x3))"
   ]
  },
  {
   "cell_type": "code",
   "execution_count": 114,
   "metadata": {},
   "outputs": [
    {
     "name": "stdout",
     "output_type": "stream",
     "text": [
      "Int"
     ]
    }
   ],
   "source": [
    "print(t[3])"
   ]
  },
  {
   "cell_type": "code",
   "execution_count": 53,
   "metadata": {},
   "outputs": [
    {
     "name": "stdout",
     "output_type": "stream",
     "text": [
      "1"
     ]
    },
    {
     "ename": "ErrorException",
     "evalue": "An object of name bound is already attached to this model. If this is intended, consider using the anonymous construction syntax, e.g., x = @variable(model, [1:N], ...) where the name of the object does not appear inside the macro.",
     "output_type": "error",
     "traceback": [
      "An object of name bound is already attached to this model. If this is intended, consider using the anonymous construction syntax, e.g., x = @variable(model, [1:N], ...) where the name of the object does not appear inside the macro.",
      "",
      "Stacktrace:",
      " [1] error(::String) at ./error.jl:33",
      " [2] _error_if_cannot_register(::Model, ::Symbol) at /home/sugyeong/.julia/packages/JuMP/CZ8vV/src/macros.jl:52",
      " [3] top-level scope at /home/sugyeong/.julia/packages/JuMP/CZ8vV/src/macros.jl:75",
      " [4] top-level scope at In[53]:4"
     ]
    }
   ],
   "source": [
    "@constraint(m, bound[i], x[i] <= ub[i])\n",
    "for i in index_x\n",
    "        print(i)\n",
    "        @constraint(m, bound[i], x[i] <= ub[i])\n",
    "end\n"
   ]
  },
  {
   "cell_type": "code",
   "execution_count": null,
   "metadata": {},
   "outputs": [],
   "source": [
    "@objective(m, Max, sum( c[i]*x[i] for i in index_x) )\n",
    "\n",
    "@constraint(m, constraint[j in index_constraints],\n",
    "               sum( A[j,i]*x[i] for i in index_x ) <= b[j] )\n",
    "@constraint(m, bound, x[1] <= 10)\n",
    "\n",
    "\n",
    "@variable(m, 0<= x1 <=10)\n",
    "@variable(m, x2 >=0, Int)\n",
    "@variable(m, x3, Bin)"
   ]
  }
 ],
 "metadata": {
  "kernelspec": {
   "display_name": "Julia 1.1.0",
   "language": "julia",
   "name": "julia-1.1"
  },
  "language_info": {
   "file_extension": ".jl",
   "mimetype": "application/julia",
   "name": "julia",
   "version": "1.1.0"
  }
 },
 "nbformat": 4,
 "nbformat_minor": 2
}
