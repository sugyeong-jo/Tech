{
 "cells": [
  {
   "cell_type": "markdown",
   "metadata": {},
   "source": [
    "본문은 권창현 교수님의 줄리아 책, julia programming for Operations Rsearch를 참고하여 정리하였습니다. (Julia 1.1.0)\n",
    "> https://www.softcover.io/read/7b8eb7d0/juliabook2/frontmatter\n",
    "\n",
    "# Chapter 10. Lagrangian Relaxation\n",
    "예전에 R로 짰었는데, 이번에는 줄리아이다!\n",
    "LR은 MILP 문제를 푸는데 유용하다. 키 아이디어는 hard constraint를 relax해서 좀 더 쉬운 문제를 푸는 것이다. 이 쉬운 문제들을 여러번 풀면서 Lagrangian multipliers의 적당한 값을 업데이트 한다.\n",
    "\n",
    "## 10.1 Introduction\n",
    "\n",
    "Fisher(2004)의 논문을 바탕으로 코드를 구현하였다.\n",
    ">Fisher, Marshall L. \"The Lagrangian relaxation method for solving integer programming problems.\" Management science 50.12_supplement (2004): 1861-1871.\n",
    "\n",
    "다음 문제를 고려해보자.\n",
    "\n",
    "$$Z^* = \\min \\mathbf{c^Tx}$$\n",
    "\n",
    "$$\\mathbf{s.t\\quad Ax=b}$$\n",
    "\n",
    "$$\\mathbf {Dx \\le e}$$\n",
    "\n",
    "$$\\mathbf {x \\ge 0, Integer.}$$\n",
    "    \n",
    "$\\lambda$ 는 첫번째 제약조건에 대한 dual variable이라고 하자. 첫번째 제약조건을 완화함으로써 Lagrangian problem은 다음과 같이 만들수 있다.\n",
    "\n",
    "$$Z_D(\\lambda) = \\min \\mathbf{c^Tx}+\\lambda^T(\\bf{Ax-b})$$\n",
    "\n",
    "$$\n",
    "\\mathbf{s.t\\quad Dx \\le e}\n",
    "$$\n",
    "\n",
    "$$\n",
    "\\mathbf{x \\ge 0, Integer}\n",
    "$$\n",
    "\n",
    "라그랑지안 문제는 원래 문제에 비해 쉬워진다. 간단한 LR 방법은 다음과 같이 요약할 수 있다.\n",
    "\n",
    "- **Step 0:** 초기 람다 값인 $\\lambda^0$를 예측한다.\n",
    "- **Step 1:** $\\lambda^k$가 주어졌을 때, 라그랑지안 문제를 풀고 $Z_D(\\lambda^k)$를 구한다. 라그랑지안 문제에서 얻은 $\\bf{x}^k_D$의 솔루션을 구하는데, 이는 원래 문제에서는 infeasible할 수 있다.\n",
    "- **Step 2:** $\\lambda^k$와 $\\bf{x}^k_D$ 값이 주어졌을 때, feasible 솔루션 $\\bf{x}^k$를 *어떤 벙법*으로 구한다.\n",
    "- **Step 3:** *어떤 벙법*을 반복하면서 $\\lambda^k$와 $\\lambda^{k+1}$을 업데이트한다.\n",
    "\n",
    "### 10.1.1 Lower and Upper Bound\n",
    "\n",
    "원 문제를 풂으로써 우리의 목적은 목적값인 $Z^*$의 최적 값을 계산하는 것이다.우리의 목표는 알 수 없는 최적 목적값의 바운드를 위아래로 줄여나가는 것이다. 즉, 다음과 같은 관계에서\n",
    "$$Z_{LB} \\ge Z^* \\ge Z_{UB}$$\n",
    "최적 목적 값은 $Z_{LB} = Z_{UB} = Z^*$이 될 것이다. 우리는 이 사이의 갭을 optimal gap이라고 할것이며, 다음과 같이 나타낼 수 있다.\n",
    "\n",
    "$$Optimal \\ Gap = \\frac{Z_{UB}-Z_{LB}}{Z_{UB}} \\times 100 % $$\n",
    "\n",
    "\n",
    "따라서 라그랑지안 문제는 다음과 같은 특징을 가지고 있다.\n",
    "\n",
    "$Z_D(\\lambda)\\le Z^* \\mbox{for all } \\lambda \\le 0$ , 라그랑지안 문제에서 최적 목적값은 원래 값보다 무조건 작다. (최소 문제인 경우!, 즉, 완화 해주었으니깐 더 좋은 값을 가질 수 밖에 없다는 것.)\n",
    "\n",
    "그러므로 LR은 더 낮은 lower-bound를 제공할 수 밖에 없다. 우리는 람다를 바꿔가면서 이 lower-bound가 최대한 원래 문제와 같은 목적함수값을 구하고 싶은 것이다.\n",
    "\n",
    "\n",
    "_**그렇다면 어떻게 람다를 업데이트 할 것인가?**_\n",
    "\n",
    "뒤에서 설명할 것이다.\n",
    "\n",
    "\n",
    "일단 우리는 완전성 조건 (integrality condition)을 제거한 LP relaxation이라고 불리는 relaxation 방법을 고려해 볼 수 있다. \n",
    "\n",
    "$$Z_{LP} = \\min \\mathbf{c^Tx}$$\n",
    "\n",
    "$$\n",
    "\\mathbf{s.t\\quad Ax=b \\\\\n",
    "Dx \\le e \\\\\n",
    "x \\ge 0}\n",
    "$$\n",
    "\n",
    "\n",
    "당연히 $Z_{LP}$는 원래 문제의 최적 목적값보다는 낮다. 이는 lower-bound가 될 것이다.\n",
    "$$Z_{LP}\\le Z^*$$\n",
    "\n",
    "upper-bound는 임의의 feasiable solution $\\bf x$로 이루어진 $\\bf{c^Tx}$이 될 것이다.\n",
    "$$Z^*\\le\\bf{c^Tx}$$\n",
    "\n",
    "현실적인 질문은 어떻게 *좋은* upper-bound를 찾느냐 이다. 가능한 방법 중 하나로 라그랑지안 문제의 해를 이용하는 것이다. $\\lambda^k$가 주어졌을때의 라그랑지안 문제를 풀면 ${\\bf x}^k_D$를 얻는데, 이는 infeasible이다. 혹은 optimal솔루션을 찾을 것이다. ${\\bf x}^k_D$ 값의 일부 변수를 고정하고, 다른 변수를 feasible하게 수정하거나, 휴리스틱 알고리즘을 이용해서 feasible soluion ${\\bf x}^k_D$를 얻을 수 있다.\n",
    "\n",
    "\n",
    "### 10.1.2 Subgradient Optimization\n",
    "\n",
    "$Z_D(\\lambda)\\le Z^* \\mbox{for all } \\lambda \\le 0$ 이므로, 다음을 구하는 것이 원래 문제의 최적 해를 구하는것이다.\n",
    "\n",
    "$$\\max_{\\lambda \\le 0} Z_D(\\lambda)$$\n",
    "\n",
    "이 문제를 풀기위해, subgradient optimization 방법을 사용하는데, 다음과 같이 업데이트 된다.\n",
    "\n",
    "$$\\lambda^{k+1}=\\max \\begin{Bmatrix} \\lambda^k+t_k(\\bf{Ax}^k_D-b),0 \\end{Bmatrix}$$\n",
    "\n",
    "where $t_k>0$ 이며, 이를 step size라고 한다. step size는 다음과 같이 계산된다.\n",
    "$$t_k = \\frac{ \\theta_k ( Z_\\text{UB} - Z_D({\\lambda}^k) ) }\n",
    "         {  || {A}{x}_D^k - b ||^2 }$$\n",
    "         \n",
    "\n",
    "## 10.2 The -$p$-Median Problem\n",
    "\n",
    "facility location 문제를 LR로 풀어볼 것이다.\n",
    ">Daskin, Mark S., and Kayse Lee Maass. \"The p-median problem.\" Location science. Springer, Cham, 2015. 21-45.\n",
    "\n",
    "$$\n",
    "\\begin{align*}\n",
    "  Z^* = \\min \\quad & \\sum_{i\\in\\mathcal I} \\sum_{j\\in\\mathcal J} d_j c_{ij} x_{ij} \\\\\n",
    "\\text{s.t.} \\quad\n",
    "& \\sum_{i\\in\\mathcal I} x_{ij} = 1  \\qquad \\forall j\\in\\mathcal J \\\\\n",
    "& \\sum_{i\\in\\mathcal I} y_i = p  \\\\\n",
    "& x_{ij} \\leq y_i \\qquad \\forall i\\in\\mathcal I, j\\in\\mathcal J \\\\\n",
    "& y_i \\in \\{0,1\\} \\qquad \\forall i\\in\\mathcal I \\\\\n",
    "& x_{ij} \\geq 0 \\qquad \\forall i\\in\\mathcal I, j\\in\\mathcal J\n",
    "\\end{align*}\n",
    "$$\n",
    "\n"
   ]
  },
  {
   "cell_type": "code",
   "execution_count": 7,
   "metadata": {},
   "outputs": [
    {
     "data": {
      "text/plain": [
       "7×10 Array{Float64,2}:\n",
       " 10.0   7.0  11.0  12.0  32.0  15.0  20.0  26.0   4.0  41.0\n",
       " 13.0  17.0  31.0  37.0  21.0   5.0  13.0  15.0  14.0  12.0\n",
       "  4.0  13.0  14.0  22.0   8.0  31.0  26.0  11.0  12.0  23.0\n",
       " 21.0  21.0  13.0  18.0   9.0  27.0  11.0  16.0  26.0  32.0\n",
       " 32.0  18.0  11.0  14.0  11.0  11.0  16.0  32.0  34.0   8.0\n",
       " 15.0   9.0  13.0  12.0  14.0  15.0  32.0   8.0  12.0   9.0\n",
       " 28.0  32.0  15.0   2.0  17.0  12.0   9.0   6.0  11.0   6.0"
      ]
     },
     "execution_count": 7,
     "metadata": {},
     "output_type": "execute_result"
    }
   ],
   "source": [
    "using DelimitedFiles\n",
    "d, header = readdlm(\"./dataset&result/demand.csv\", ',', header=true)\n",
    "data = readdlm(\"./dataset&result/cost.csv\", ',')\n",
    "cc = data[2:end, 2:end]\n",
    "c = convert(Array{Float64,2}, cc)"
   ]
  },
  {
   "cell_type": "code",
   "execution_count": 14,
   "metadata": {},
   "outputs": [
    {
     "name": "stdout",
     "output_type": "stream",
     "text": [
      "[10.0; 6.0; 20.0; 32.0; 15.0; 28.0; 3.0; 19.0; 8.0; 13.0]\n",
      "AbstractString[\"demand\"]\n"
     ]
    }
   ],
   "source": [
    "println(d)\n",
    "println(header)"
   ]
  },
  {
   "cell_type": "code",
   "execution_count": 13,
   "metadata": {},
   "outputs": [
    {
     "data": {
      "text/plain": [
       "8×11 Array{Any,2}:\n",
       " \"\"      \"C1\"    \"C2\"    \"C3\"    \"C4\"  …    \"C7\"    \"C8\"    \"C9\"    \"C10\"\n",
       " \"L1\"  10       7      11      12         20      26       4      41     \n",
       " \"L2\"  13      17      31      37         13      15      14      12     \n",
       " \"L3\"   4      13      14      22         26      11      12      23     \n",
       " \"L4\"  21      21      13      18         11      16      26      32     \n",
       " \"L5\"  32      18      11      14      …  16      32      34       8     \n",
       " \"L6\"  15       9      13      12         32       8      12       9     \n",
       " \"L7\"  28      32      15       2          9       6      11       6     "
      ]
     },
     "execution_count": 13,
     "metadata": {},
     "output_type": "execute_result"
    }
   ],
   "source": [
    "data"
   ]
  },
  {
   "cell_type": "code",
   "execution_count": 15,
   "metadata": {},
   "outputs": [
    {
     "data": {
      "text/plain": [
       "Array{Any,2}"
      ]
     },
     "execution_count": 15,
     "metadata": {},
     "output_type": "execute_result"
    }
   ],
   "source": [
    "typeof(cc)"
   ]
  },
  {
   "cell_type": "code",
   "execution_count": 16,
   "metadata": {},
   "outputs": [],
   "source": [
    "@assert length(d) == size(c,2) #assert 매크로는 주어진 구문을 검사하는 역할을 한다. 만약 에러면 false를 결과로 내고, true인 경우 다음 코드로 넘어간다."
   ]
  },
  {
   "cell_type": "code",
   "execution_count": 17,
   "metadata": {},
   "outputs": [
    {
     "data": {
      "text/plain": [
       "1:10"
      ]
     },
     "execution_count": 17,
     "metadata": {},
     "output_type": "execute_result"
    }
   ],
   "source": [
    "locations = 1:size(c,1) # the set, I\n",
    "customers = 1:length(d) # the set, J"
   ]
  },
  {
   "cell_type": "markdown",
   "metadata": {},
   "source": [
    "### 10.2.2 Solving the $p$-Median Problem Optimally"
   ]
  },
  {
   "cell_type": "code",
   "execution_count": 19,
   "metadata": {},
   "outputs": [
    {
     "name": "stderr",
     "output_type": "stream",
     "text": [
      "┌ Info: Recompiling stale cache file /home/sugyeong/.julia/compiled/v1.1/JuMP/DmXqY.ji for JuMP [4076af6c-e467-56ae-b986-b466b2749572]\n",
      "└ @ Base loading.jl:1184\n",
      "┌ Info: Recompiling stale cache file /home/sugyeong/.julia/compiled/v1.1/Cbc/ARPfV.ji for Cbc [9961bab8-2fa3-5c5a-9d89-47fab24efd76]\n",
      "└ @ Base loading.jl:1184\n"
     ]
    },
    {
     "data": {
      "text/plain": [
       "optimal (generic function with 1 method)"
      ]
     },
     "execution_count": 19,
     "metadata": {},
     "output_type": "execute_result"
    }
   ],
   "source": [
    "using JuMP, Cbc\n",
    "function optimal(p)\n",
    "  m = Model(Cbc.Optimizer)\n",
    "\n",
    "  @variable(m, x[i in locations, j in customers] >= 0)\n",
    "  @variable(m, y[i in locations], Bin)\n",
    "\n",
    "  @objective(m, Min, sum( d[j]*c[i,j]*x[i,j]\n",
    "                     for i in locations, j in customers) )\n",
    "\n",
    "  @constraint(m, [j in customers], sum( x[i,j] for i in locations) == 1)\n",
    "  @constraint(m, sum( y[i] for i in locations) == p)\n",
    "  @constraint(m, [i in locations, j in customers], x[i,j] <= y[i] )\n",
    "\n",
    "  JuMP.optimize!(m)\n",
    "\n",
    "  Z_opt = JuMP.objective_value(m)\n",
    "  x_opt = JuMP.value.(x)\n",
    "  y_opt = JuMP.value.(y)\n",
    "\n",
    "  return Z_opt, x_opt, y_opt\n",
    "end"
   ]
  },
  {
   "cell_type": "markdown",
   "metadata": {},
   "source": [
    "### 10.2.3 Lagrangian Relaxation\n",
    "\n",
    "\\begin{align*}\n",
    "  Z_D({\\lambda}) = \\min \\quad & \\sum_{i\\in\\mathcal I} \\sum_{j\\in\\mathcal J} d_j c_{ij} x_{ij}\n",
    "              + \\sum_{j\\in\\mathcal J} \\lambda_j \\bigg(1 - \\sum_{i\\in\\mathcal I} x_{ij} \\bigg) \\\\\n",
    " = \\min \\quad & \\sum_{i\\in\\mathcal I} \\sum_{j\\in\\mathcal J} ( d_j c_{ij} - \\lambda_j ) x_{ij}\n",
    "      + \\sum_{j\\in\\mathcal J} \\lambda_j \\\\\n",
    "\\text{s.t.} \\quad\n",
    "&  \\sum_{i\\in\\mathcal I} y_i = p  \\\\\n",
    "&  x_{ij} \\leq y_i  \\qquad \\forall i\\in\\mathcal I, j\\in\\mathcal J \\\\\n",
    "&  y_i \\in \\{0,1\\}  \\qquad \\forall i\\in\\mathcal I \\\\\n",
    "&  x_{ij} \\geq 0  \\qquad \\forall i\\in\\mathcal I, j\\in\\mathcal J\n",
    "\\end{align*}\n"
   ]
  },
  {
   "cell_type": "markdown",
   "metadata": {},
   "source": [
    "### 10.2.4 Finding Lower Bound\n",
    "\n",
    "**Step 1**\n",
    "$$v_i = \\sum_{j\\in\\mathcal J} \\min \\{ 0, d_j c_{ij} - \\lambda_j \\}$$\n",
    "\n",
    "\n",
    "**Step 4**\n",
    "\n",
    "$$Z_D({\\lambda}) = \\min \\quad \\sum_{i\\in\\mathcal I} \\sum_{j\\in\\mathcal J} d_j c_{ij} x_{ij}\n",
    "              + \\sum_{j\\in\\mathcal J} \\lambda_j \\bigg(1 - \\sum_{i\\in\\mathcal I} x_{ij} \\bigg)$$"
   ]
  },
  {
   "cell_type": "code",
   "execution_count": 20,
   "metadata": {},
   "outputs": [
    {
     "data": {
      "text/plain": [
       "lower_bound (generic function with 1 method)"
      ]
     },
     "execution_count": 20,
     "metadata": {},
     "output_type": "execute_result"
    }
   ],
   "source": [
    "function lower_bound(lambda)\n",
    "  # Step 1: Computing v\n",
    "  v = Array{Float64}(undef, size(locations))\n",
    "  for i in locations\n",
    "    v[i] = 0\n",
    "    for j in customers\n",
    "      v[i] = v[i] + min(0, d[j]*c[i,j] - lambda[j] )\n",
    "    end\n",
    "  end\n",
    "  \n",
    "  # v: [-8.0; -1.0; 0.0; -7.0; 0.0; 0.0; -13.0]\n",
    "\n",
    "  # Step 2: Sorting v from the most negative to zero\n",
    "  idx = sortperm(v) # 작은 값의 인덱스를 순서대로 준다. 제일 좋은 값의 index!\n",
    "\n",
    "  # idx: [7; 1; 4; 2; 3; 5; 6]\n",
    "\n",
    "  # Step 3: Determine y # 후보에는 1, 아닌곳은 0!\n",
    "  y = zeros(Int, size(locations))\n",
    "  y[idx[1:p]] .= 1\n",
    "  # y: [1; 0; 0; 1; 0; 0; 1] \n",
    "\n",
    "  # Step 4: Determine x\n",
    "  x = zeros(Int, length(locations), length(customers))\n",
    "  for i in locations, j in customers\n",
    "    if y[i]==1 && d[j]*c[i,j]-lambda[j]<0 # &&=and\n",
    "      x[i,j] = 1\n",
    "    end\n",
    "  end\n",
    "\n",
    "  # Computing the Z_D(lambda^k)\n",
    "  Z_D = 0.0\n",
    "  for j in customers\n",
    "    Z_D = Z_D + lambda[j]\n",
    "    for i in locations\n",
    "      Z_D = Z_D + d[j]*c[i,j]*x[i,j] - lambda[j]*x[i,j]\n",
    "    end\n",
    "  end\n",
    "\n",
    "  return Z_D, x, y\n",
    "end"
   ]
  },
  {
   "cell_type": "code",
   "execution_count": 27,
   "metadata": {},
   "outputs": [
    {
     "data": {
      "text/plain": [
       "7-element Array{Float64,1}:\n",
       " 0.0\n",
       " 0.0\n",
       " 0.0\n",
       " 0.0\n",
       " 0.0\n",
       " 0.0\n",
       " 0.0"
      ]
     },
     "execution_count": 27,
     "metadata": {},
     "output_type": "execute_result"
    }
   ],
   "source": [
    "lambda = zeros(size(customers))\n",
    "p = 3\n",
    "\n",
    "v = Array{Float64}(undef, size(locations))\n",
    "for i in locations\n",
    "  v[i] = 0\n",
    "  for j in customers\n",
    "    v[i] = v[i] + min(0, d[j]*c[i,j] - lambda[j] )\n",
    "  end\n",
    "end\n",
    "v"
   ]
  },
  {
   "cell_type": "code",
   "execution_count": 28,
   "metadata": {},
   "outputs": [
    {
     "data": {
      "text/plain": [
       "7-element Array{Int64,1}:\n",
       " 1\n",
       " 2\n",
       " 3\n",
       " 4\n",
       " 5\n",
       " 6\n",
       " 7"
      ]
     },
     "execution_count": 28,
     "metadata": {},
     "output_type": "execute_result"
    }
   ],
   "source": [
    "idx = sortperm(v)"
   ]
  },
  {
   "cell_type": "code",
   "execution_count": 30,
   "metadata": {},
   "outputs": [
    {
     "data": {
      "text/plain": [
       "7-element Array{Int64,1}:\n",
       " 1\n",
       " 1\n",
       " 1\n",
       " 0\n",
       " 0\n",
       " 0\n",
       " 0"
      ]
     },
     "execution_count": 30,
     "metadata": {},
     "output_type": "execute_result"
    }
   ],
   "source": [
    "y = zeros(Int, size(locations))\n",
    "y[idx[1:p]] .= 1\n",
    "y"
   ]
  },
  {
   "cell_type": "code",
   "execution_count": 32,
   "metadata": {},
   "outputs": [
    {
     "data": {
      "text/plain": [
       "7×10 Array{Int64,2}:\n",
       " 0  0  0  0  0  0  0  0  0  0\n",
       " 0  0  0  0  0  0  0  0  0  0\n",
       " 0  0  0  0  0  0  0  0  0  0\n",
       " 0  0  0  0  0  0  0  0  0  0\n",
       " 0  0  0  0  0  0  0  0  0  0\n",
       " 0  0  0  0  0  0  0  0  0  0\n",
       " 0  0  0  0  0  0  0  0  0  0"
      ]
     },
     "execution_count": 32,
     "metadata": {},
     "output_type": "execute_result"
    }
   ],
   "source": [
    "x = zeros(Int, length(locations), length(customers))\n",
    "for i in locations, j in customers\n",
    "  if y[i]==1 && d[j]*c[i,j]-lambda[j]<0\n",
    "    x[i,j] = 1\n",
    "  end\n",
    "end\n",
    "x"
   ]
  },
  {
   "cell_type": "code",
   "execution_count": 34,
   "metadata": {},
   "outputs": [
    {
     "data": {
      "text/plain": [
       "0.0"
      ]
     },
     "execution_count": 34,
     "metadata": {},
     "output_type": "execute_result"
    }
   ],
   "source": [
    "Z_D = 0.0\n",
    "for j in customers\n",
    "  Z_D = Z_D + lambda[j]\n",
    "  for i in locations\n",
    "    Z_D = Z_D + d[j]*c[i,j]*x[i,j] - lambda[j]*x[i,j]\n",
    "  end\n",
    "end\n",
    "Z_D  "
   ]
  },
  {
   "cell_type": "markdown",
   "metadata": {},
   "source": [
    "### 10.2.5 Finding Upper Bound"
   ]
  },
  {
   "cell_type": "code",
   "execution_count": 21,
   "metadata": {},
   "outputs": [
    {
     "data": {
      "text/plain": [
       "upper_bound (generic function with 1 method)"
      ]
     },
     "execution_count": 21,
     "metadata": {},
     "output_type": "execute_result"
    }
   ],
   "source": [
    "function upper_bound(y)\n",
    "  # Computing x, given y\n",
    "  x = zeros(Int, length(locations), length(customers))\n",
    "  for j in customers\n",
    "    idx = argmin( c[:,j] + (1 .- y) .* maximum(c) )\n",
    "    x[idx,j] = 1\n",
    "  end\n",
    "\n",
    "  # Computing Z\n",
    "  Z = 0.0\n",
    "  for i in locations\n",
    "    for j in customers\n",
    "      Z = Z + d[j]*c[i,j]*x[i,j]\n",
    "    end\n",
    "  end\n",
    "\n",
    "  return Z, x\n",
    "end"
   ]
  },
  {
   "cell_type": "code",
   "execution_count": 49,
   "metadata": {},
   "outputs": [
    {
     "name": "stdout",
     "output_type": "stream",
     "text": [
      "[0 0 0 0 0 0 0 0 0 0; 0 0 0 0 0 0 0 0 0 0; 0 0 0 0 0 0 0 0 0 0; 0 0 0 0 0 0 0 0 0 0; 0 0 0 0 0 0 0 0 0 0; 0 0 0 0 0 0 0 0 0 0; 0 0 0 0 0 0 0 0 0 0]\n",
      "31\n",
      "[0 0 0 0 0 0 0 0 0 0; 0 0 0 0 0 0 0 0 0 0; 1 0 0 0 0 0 0 0 0 0; 0 0 0 0 0 0 0 0 0 0; 0 0 0 0 0 0 0 0 0 0; 0 0 0 0 0 0 0 0 0 0; 0 0 0 0 0 0 0 0 0 0]\n",
      "12\n",
      "[0 1 0 0 0 0 0 0 0 0; 0 0 0 0 0 0 0 0 0 0; 1 0 0 0 0 0 0 0 0 0; 0 0 0 0 0 0 0 0 0 0; 0 0 0 0 0 0 0 0 0 0; 0 0 0 0 0 0 0 0 0 0; 0 0 0 0 0 0 0 0 0 0]\n",
      "13\n",
      "[0 1 1 0 0 0 0 0 0 0; 0 0 0 0 0 0 0 0 0 0; 1 0 0 0 0 0 0 0 0 0; 0 0 0 0 0 0 0 0 0 0; 0 0 0 0 0 0 0 0 0 0; 0 0 0 0 0 0 0 0 0 0; 0 0 0 0 0 0 0 0 0 0]\n",
      "14\n",
      "[0 1 1 1 0 0 0 0 0 0; 0 0 0 0 0 0 0 0 0 0; 1 0 0 0 0 0 0 0 0 0; 0 0 0 0 0 0 0 0 0 0; 0 0 0 0 0 0 0 0 0 0; 0 0 0 0 0 0 0 0 0 0; 0 0 0 0 0 0 0 0 0 0]\n",
      "35\n",
      "[0 1 1 1 0 0 0 0 0 0; 0 0 0 0 0 0 0 0 0 0; 1 0 0 0 1 0 0 0 0 0; 0 0 0 0 0 0 0 0 0 0; 0 0 0 0 0 0 0 0 0 0; 0 0 0 0 0 0 0 0 0 0; 0 0 0 0 0 0 0 0 0 0]\n",
      "26\n",
      "[0 1 1 1 0 0 0 0 0 0; 0 0 0 0 0 1 0 0 0 0; 1 0 0 0 1 0 0 0 0 0; 0 0 0 0 0 0 0 0 0 0; 0 0 0 0 0 0 0 0 0 0; 0 0 0 0 0 0 0 0 0 0; 0 0 0 0 0 0 0 0 0 0]\n",
      "27\n",
      "[0 1 1 1 0 0 0 0 0 0; 0 0 0 0 0 1 1 0 0 0; 1 0 0 0 1 0 0 0 0 0; 0 0 0 0 0 0 0 0 0 0; 0 0 0 0 0 0 0 0 0 0; 0 0 0 0 0 0 0 0 0 0; 0 0 0 0 0 0 0 0 0 0]\n",
      "38\n",
      "[0 1 1 1 0 0 0 0 0 0; 0 0 0 0 0 1 1 0 0 0; 1 0 0 0 1 0 0 1 0 0; 0 0 0 0 0 0 0 0 0 0; 0 0 0 0 0 0 0 0 0 0; 0 0 0 0 0 0 0 0 0 0; 0 0 0 0 0 0 0 0 0 0]\n",
      "19\n",
      "[0 1 1 1 0 0 0 0 1 0; 0 0 0 0 0 1 1 0 0 0; 1 0 0 0 1 0 0 1 0 0; 0 0 0 0 0 0 0 0 0 0; 0 0 0 0 0 0 0 0 0 0; 0 0 0 0 0 0 0 0 0 0; 0 0 0 0 0 0 0 0 0 0]\n",
      "210\n",
      "[0 1 1 1 0 0 0 0 1 0; 0 0 0 0 0 1 1 0 0 1; 1 0 0 0 1 0 0 1 0 0; 0 0 0 0 0 0 0 0 0 0; 0 0 0 0 0 0 0 0 0 0; 0 0 0 0 0 0 0 0 0 0; 0 0 0 0 0 0 0 0 0 0]\n"
     ]
    }
   ],
   "source": [
    "x = zeros(Int, length(locations), length(customers))\n",
    "println(x)\n",
    "for j in customers\n",
    "  idx = argmin( c[:,j] + (1 .- y) .* maximum(c) ) #argmin: 벡터에서 가장 작은 값을 가지는 인덱스를 찾아줌\n",
    "  println(idx,j)\n",
    "  x[idx,j] = 1\n",
    "  println(x)\n",
    "end"
   ]
  },
  {
   "cell_type": "code",
   "execution_count": 51,
   "metadata": {},
   "outputs": [
    {
     "data": {
      "text/plain": [
       "7×10 Array{Int64,2}:\n",
       " 0  1  1  1  0  0  0  0  1  0\n",
       " 0  0  0  0  0  1  1  0  0  1\n",
       " 1  0  0  0  1  0  0  1  0  0\n",
       " 0  0  0  0  0  0  0  0  0  0\n",
       " 0  0  0  0  0  0  0  0  0  0\n",
       " 0  0  0  0  0  0  0  0  0  0\n",
       " 0  0  0  0  0  0  0  0  0  0"
      ]
     },
     "execution_count": 51,
     "metadata": {},
     "output_type": "execute_result"
    }
   ],
   "source": [
    "x"
   ]
  },
  {
   "cell_type": "markdown",
   "metadata": {},
   "source": [
    "### 10.2.6 Updating the Lagrangian Multiplier\n",
    "\n",
    "$$\\lambda^{k+1}_j = \\lambda^k_j + t_k \\bigg( 1 - \\sum_{i\\in\\mathcal I} x_{Dij}^k \\bigg)$$\n",
    "\n",
    "$$t_k = \\frac{ \\theta_k ( Z_\\text{UB} - Z_D({\\lambda}^k) ) }\n",
    "         {  \\sum_{j\\in\\mathcal J} \\bigg( 1 - \\sum_{i\\in\\mathcal I} x_{Dij}^k \\bigg)^2 }$$\n",
    "         \n"
   ]
  },
  {
   "cell_type": "code",
   "execution_count": 52,
   "metadata": {},
   "outputs": [
    {
     "data": {
      "text/plain": [
       "lagrangian_relaxation (generic function with 1 method)"
      ]
     },
     "execution_count": 52,
     "metadata": {},
     "output_type": "execute_result"
    }
   ],
   "source": [
    "function lagrangian_relaxation(p)\n",
    "    # The maximum number of iterations allowed\n",
    "    MAX_ITER = 10000\n",
    "\n",
    "    # To track the upper and lower bounds\n",
    "    UB = Array{Float64}(undef, 0)\n",
    "    LB = Array{Float64}(undef, 0)\n",
    "\n",
    "    # The best-known upper and lower bounds\n",
    "    Z_UB = Inf\n",
    "    Z_LB = -Inf\n",
    "\n",
    "    # The best-known feasible solutions\n",
    "    x_best = zeros(length(locations), length(customers))\n",
    "    y_best = zeros(length(locations))\n",
    "\n",
    "    # Initial multiplier\n",
    "    lambda = zeros(size(customers))\n",
    "\n",
    "    for k=1:MAX_ITER\n",
    "      # Obtaining the lower and upper bounds\n",
    "      Z_D, x_D, y = lower_bound(lambda)\n",
    "      Z, x = upper_bound(y)\n",
    "\n",
    "      # Updating the upper bound\n",
    "      if Z < Z_UB\n",
    "        Z_UB = Z\n",
    "        x_best = x\n",
    "        y_best = y\n",
    "      end\n",
    "\n",
    "      # Updating the lower bound\n",
    "      if Z_D > Z_LB\n",
    "        Z_LB = Z_D\n",
    "      end\n",
    "\n",
    "      # Adding the bounds from the current iteration to the record\n",
    "      push!(UB, Z)\n",
    "      push!(LB, Z_D)\n",
    "\n",
    "      # Determining the step size and updating the multiplier\n",
    "      theta = 1.0\n",
    "      residual = 1 .- transpose(sum(x_D, dims=1))\n",
    "      t = theta * (Z_UB - Z_D) / sum(residual.^2)\n",
    "      lambda = lambda + t * residual\n",
    "\n",
    "      # Computing the optimality gap\n",
    "      opt_gap = (Z_UB-Z_LB) / Z_UB\n",
    "      if opt_gap < 0.000001\n",
    "        break\n",
    "      end\n",
    "    end\n",
    "\n",
    "    return Z_UB, x_best, y_best, UB, LB\n",
    "end\n",
    "\n",
    "\n"
   ]
  },
  {
   "cell_type": "code",
   "execution_count": 62,
   "metadata": {},
   "outputs": [
    {
     "name": "stdout",
     "output_type": "stream",
     "text": [
      "Welcome to the CBC MILP Solver \n",
      "Version: 2.10.3 \n",
      "Build Date: Oct  7 2019 \n",
      "\n",
      "command line - Cbc_C_Interface -solve -quit (default strategy 1)\n",
      "Continuous objective value is 1029 - 0.00 seconds\n",
      "Cgl0004I processed model has 81 rows, 77 columns (7 integer (7 of which binary)) and 217 elements\n",
      "Cbc0012I Integer solution of 1029 found by DiveCoefficient after 0 iterations and 0 nodes (0.00 seconds)\n",
      "Cbc0001I Search completed - best objective 1029, took 0 iterations and 0 nodes (0.00 seconds)\n",
      "Cbc0035I Maximum depth 0, 0 variables fixed on reduced cost\n",
      "Cuts at root node changed objective from 1029 to 1029\n",
      "Probing was tried 0 times and created 0 cuts of which 0 were active after adding rounds of cuts (0.000 seconds)\n",
      "Gomory was tried 0 times and created 0 cuts of which 0 were active after adding rounds of cuts (0.000 seconds)\n",
      "Knapsack was tried 0 times and created 0 cuts of which 0 were active after adding rounds of cuts (0.000 seconds)\n",
      "Clique was tried 0 times and created 0 cuts of which 0 were active after adding rounds of cuts (0.000 seconds)\n",
      "MixedIntegerRounding2 was tried 0 times and created 0 cuts of which 0 were active after adding rounds of cuts (0.000 seconds)\n",
      "FlowCover was tried 0 times and created 0 cuts of which 0 were active after adding rounds of cuts (0.000 seconds)\n",
      "TwoMirCuts was tried 0 times and created 0 cuts of which 0 were active after adding rounds of cuts (0.000 seconds)\n",
      "ZeroHalf was tried 0 times and created 0 cuts of which 0 were active after adding rounds of cuts (0.000 seconds)\n",
      "\n",
      "Result - Optimal solution found\n",
      "\n",
      "Objective value:                1029.00000000\n",
      "Enumerated nodes:               0\n",
      "Total iterations:               0\n",
      "Time (CPU seconds):             0.00\n",
      "Time (Wallclock seconds):       0.00\n",
      "\n",
      "Total time (CPU seconds):       0.00   (Wallclock seconds):       0.00\n",
      "\n"
     ]
    },
    {
     "data": {
      "text/plain": [
       "(1029.0, 2-dimensional DenseAxisArray{Float64,2,...} with index sets:\n",
       "    Dimension 1, 1:7\n",
       "    Dimension 2, 1:10\n",
       "And data, a 7×10 Array{Float64,2}:\n",
       " 0.0  0.0  0.0  0.0  0.0  0.0  0.0  0.0  0.0  0.0\n",
       " 0.0  0.0  0.0  0.0  0.0  1.0  0.0  0.0  0.0  0.0\n",
       " 1.0  1.0  1.0  0.0  1.0  0.0  0.0  0.0  0.0  0.0\n",
       " 0.0  0.0  0.0  0.0  0.0  0.0  0.0  0.0  0.0  0.0\n",
       " 0.0  0.0  0.0  0.0  0.0  0.0  0.0  0.0  0.0  0.0\n",
       " 0.0  0.0  0.0  0.0  0.0  0.0  0.0  0.0  0.0  0.0\n",
       " 0.0  0.0  0.0  1.0  0.0  0.0  1.0  1.0  1.0  1.0, 1-dimensional DenseAxisArray{Float64,1,...} with index sets:\n",
       "    Dimension 1, 1:7\n",
       "And data, a 7-element Array{Float64,1}:\n",
       " 0.0\n",
       " 1.0\n",
       " 1.0\n",
       " 0.0\n",
       " 0.0\n",
       " 0.0\n",
       " 1.0)"
      ]
     },
     "execution_count": 62,
     "metadata": {},
     "output_type": "execute_result"
    }
   ],
   "source": [
    "Z_opt, x_opt, y_opt = optimal(p)"
   ]
  },
  {
   "cell_type": "code",
   "execution_count": 54,
   "metadata": {},
   "outputs": [
    {
     "name": "stdout",
     "output_type": "stream",
     "text": [
      "1029.0\n",
      "1-dimensional DenseAxisArray{Float64,1,...} with index sets:\n",
      "    Dimension 1, 1:7\n",
      "And data, a 7-element Array{Float64,1}:\n",
      " 0.0\n",
      " 1.0\n",
      " 1.0\n",
      " 0.0\n",
      " 0.0\n",
      " 0.0\n",
      " 1.0\n"
     ]
    }
   ],
   "source": [
    "println(Z_opt)\n",
    "println(y_opt)"
   ]
  },
  {
   "cell_type": "code",
   "execution_count": 63,
   "metadata": {},
   "outputs": [
    {
     "data": {
      "text/plain": [
       "(1029.0, [0 0 … 0 0; 0 0 … 0 0; … ; 0 0 … 0 0; 0 0 … 1 1], [0, 1, 1, 0, 0, 0, 1], [1382.0, 1073.0, 1181.0, 1029.0, 1072.0, 1073.0, 1029.0, 1072.0, 1073.0, 1029.0  …  1029.0, 1073.0, 1072.0, 1029.0, 1072.0, 1029.0, 1072.0, 1029.0, 1072.0, 1029.0], [0.0, 464.2, 880.933, 934.547, 924.036, 939.354, 964.13, 977.495, 984.033, 996.843  …  1028.62, 1028.67, 1028.89, 1028.86, 1028.93, 1028.97, 1028.98, 1028.99, 1029.0, 1029.0])"
      ]
     },
     "execution_count": 63,
     "metadata": {},
     "output_type": "execute_result"
    }
   ],
   "source": [
    "Z_UB, x_best, y_best, UB, LB = lagrangian_relaxation(p)"
   ]
  },
  {
   "cell_type": "code",
   "execution_count": 56,
   "metadata": {},
   "outputs": [
    {
     "name": "stdout",
     "output_type": "stream",
     "text": [
      "1029.0\n",
      "[0, 1, 1, 0, 0, 0, 1]\n"
     ]
    }
   ],
   "source": [
    "println(Z_UB)\n",
    "println(y_best)"
   ]
  },
  {
   "cell_type": "code",
   "execution_count": 70,
   "metadata": {},
   "outputs": [
    {
     "data": {
      "image/png": "[encoded data removed]",
      "text/plain": [
       "Figure(PyObject <Figure size 640x480 with 1 Axes>)"
      ]
     },
     "metadata": {},
     "output_type": "display_data"
    }
   ],
   "source": [
    "using PyPlot\n",
    "\n",
    "\n",
    "\n",
    "iter = 1:length(LB)\n",
    "fig = figure()\n",
    "\n",
    "# Plotting two datasets\n",
    "plot(iter, LB, color=\"red\", linewidth=2.0, linestyle=\"-\",\n",
    "   marker=\"o\", label=\"Lower Bound\")\n",
    "plot(iter, UB, color=\"blue\", linewidth=2.0, linestyle=\"-.\",\n",
    "   marker=\"D\", label=\"Upper Bound\")\n",
    "\n",
    "# Labeling axes\n",
    "xlabel(L\"iteration clock $k$\", fontsize=\"xx-large\")\n",
    "ylabel(\"Bounds\", fontsize=\"xx-large\")\n",
    "\n",
    "# Putting the legend and determining the location\n",
    "legend(loc=\"lower right\", fontsize=\"x-large\")\n",
    "\n",
    "# Add grid lines\n",
    "grid(color=\"#DDDDDD\", linestyle=\"-\", linewidth=1.0)\n",
    "tick_params(axis=\"both\", which=\"major\", labelsize=\"x-large\")\n"
   ]
  },
  {
   "cell_type": "code",
   "execution_count": 69,
   "metadata": {},
   "outputs": [
    {
     "name": "stdout",
     "output_type": "stream",
     "text": [
      "Welcome to the CBC MILP Solver \n",
      "Version: 2.10.3 \n",
      "Build Date: Oct  7 2019 \n",
      "\n",
      "command line - Cbc_C_Interface -solve -quit (default strategy 1)\n",
      "Continuous objective value is 1029 - 0.00 seconds\n",
      "Cgl0004I processed model has 81 rows, 77 columns (7 integer (7 of which binary)) and 217 elements\n",
      "Cbc0012I Integer solution of 1029 found by DiveCoefficient after 0 iterations and 0 nodes (0.00 seconds)\n",
      "Cbc0001I Search completed - best objective 1029, took 0 iterations and 0 nodes (0.00 seconds)\n",
      "Cbc0035I Maximum depth 0, 0 variables fixed on reduced cost\n",
      "Cuts at root node changed objective from 1029 to 1029\n",
      "Probing was tried 0 times and created 0 cuts of which 0 were active after adding rounds of cuts (0.000 seconds)\n",
      "Gomory was tried 0 times and created 0 cuts of which 0 were active after adding rounds of cuts (0.000 seconds)\n",
      "Knapsack was tried 0 times and created 0 cuts of which 0 were active after adding rounds of cuts (0.000 seconds)\n",
      "Clique was tried 0 times and created 0 cuts of which 0 were active after adding rounds of cuts (0.000 seconds)\n",
      "MixedIntegerRounding2 was tried 0 times and created 0 cuts of which 0 were active after adding rounds of cuts (0.000 seconds)\n",
      "FlowCover was tried 0 times and created 0 cuts of which 0 were active after adding rounds of cuts (0.000 seconds)\n",
      "TwoMirCuts was tried 0 times and created 0 cuts of which 0 were active after adding rounds of cuts (0.000 seconds)\n",
      "ZeroHalf was tried 0 times and created 0 cuts of which 0 were active after adding rounds of cuts (0.000 seconds)\n",
      "\n",
      "Result - Optimal solution found\n",
      "\n",
      "Objective value:                1029.00000000\n",
      "Enumerated nodes:               0\n",
      "Total iterations:               0\n",
      "Time (CPU seconds):             0.00\n",
      "Time (Wallclock seconds):       0.00\n",
      "\n",
      "Total time (CPU seconds):       0.00   (Wallclock seconds):       0.00\n",
      "\n"
     ]
    }
   ],
   "source": [
    "using JuMP, Cbc, DelimitedFiles, PyPlot\n",
    "\n",
    "# Solving the p-median problem by Lagrangian Relaxation\n",
    "p = 3\n",
    "\n",
    "# Reading demand data\n",
    "d, header = readdlm(\"./dataset&result/demand.csv\", ',', header=true)\n",
    "\n",
    "# Reading transportation cost data\n",
    "data = readdlm(\"./dataset&result/cost.csv\", ',')\n",
    "cc = data[2:end, 2:end]\n",
    "c = convert(Array{Float64,2}, cc)\n",
    "\n",
    "# the length of 'd' and the number of columns in 'c' must match\n",
    "@assert length(d) == size(c,2)\n",
    "\n",
    "locations = 1:size(c,1) # the set, I\n",
    "customers = 1:length(d) # the set, J\n",
    "\n",
    "# making these data global so that any function can access data\n",
    "\n",
    "\n",
    "\n",
    "function optimal(p)\n",
    "  global locations, customers, c\n",
    "  m = Model(Cbc.Optimizer)\n",
    "\n",
    "  @variable(m, x[i in locations, j in customers] >= 0)\n",
    "  @variable(m, y[i in locations], Bin)\n",
    "\n",
    "  @objective(m, Min, sum( d[j]*c[i,j]*x[i,j]\n",
    "                     for i in locations, j in customers) )\n",
    "\n",
    "  @constraint(m, [j in customers], sum( x[i,j] for i in locations) == 1)\n",
    "  @constraint(m, sum( y[i] for i in locations) == p)\n",
    "  @constraint(m, [i in locations, j in customers], x[i,j] <= y[i] )\n",
    "\n",
    "  JuMP.optimize!(m)\n",
    "\n",
    "  Z_opt = JuMP.objective_value(m)\n",
    "  x_opt = JuMP.value.(x)\n",
    "  y_opt = JuMP.value.(y)\n",
    "\n",
    "  return Z_opt, x_opt, y_opt\n",
    "end\n",
    "\n",
    "\n",
    "\n",
    "function lower_bound(lambda)\n",
    "  # Step 1: Computing v\n",
    "  v = Array{Float64}(undef, size(locations))\n",
    "  for i in locations\n",
    "    v[i] = 0\n",
    "    for j in customers\n",
    "      v[i] = v[i] + min(0, d[j]*c[i,j] - lambda[j] )\n",
    "    end\n",
    "  end\n",
    "\n",
    "  # Step 2: Sorting v from the most negative to zero\n",
    "  idx = sortperm(v)\n",
    "\n",
    "  # Step 3: Determine y\n",
    "  y = zeros(Int, size(locations))\n",
    "  y[idx[1:p]] .= 1\n",
    "\n",
    "  # Step 4: Determine x\n",
    "  x = zeros(Int, length(locations), length(customers))\n",
    "  for i in locations, j in customers\n",
    "    if y[i]==1 && d[j]*c[i,j]-lambda[j]<0\n",
    "      x[i,j] = 1\n",
    "    end\n",
    "  end\n",
    "\n",
    "  # Computing the Z_D(lambda^k)\n",
    "  Z_D = 0.0\n",
    "  for j in customers\n",
    "    Z_D = Z_D + lambda[j]\n",
    "    for i in locations\n",
    "      Z_D = Z_D + d[j]*c[i,j]*x[i,j] - lambda[j]*x[i,j]\n",
    "    end\n",
    "  end\n",
    "\n",
    "  return Z_D, x, y\n",
    "end\n",
    "\n",
    "\n",
    "\n",
    "function upper_bound(y)\n",
    "  # Computing x, given y\n",
    "  x = zeros(Int, length(locations), length(customers))\n",
    "  for j in customers\n",
    "    idx = argmin( c[:,j] + (1 .- y) .* maximum(c) )\n",
    "    x[idx,j] = 1\n",
    "  end\n",
    "\n",
    "  # Computing Z\n",
    "  Z = 0.0\n",
    "  for i in locations\n",
    "    for j in customers\n",
    "      Z = Z + d[j]*c[i,j]*x[i,j]\n",
    "    end\n",
    "  end\n",
    "  return Z, x\n",
    "end\n",
    "\n",
    "function lagrangian_relaxation(p)\n",
    "    # The maximum number of iterations allowed\n",
    "    MAX_ITER = 10000\n",
    "\n",
    "    # To track the upper and lower bounds\n",
    "    UB = Array{Float64}(undef, 0)\n",
    "    LB = Array{Float64}(undef, 0)\n",
    "\n",
    "    # The best-known upper and lower bounds\n",
    "    Z_UB = Inf\n",
    "    Z_LB = -Inf\n",
    "\n",
    "    # The best-known feasible solutions\n",
    "    x_best = zeros(length(locations), length(customers))\n",
    "    y_best = zeros(length(locations))\n",
    "\n",
    "    # Initial multiplier\n",
    "    lambda = zeros(size(customers))\n",
    "\n",
    "    for k=1:MAX_ITER\n",
    "      # Obtaining the lower and upper bounds\n",
    "      Z_D, x_D, y = lower_bound(lambda)\n",
    "      Z, x = upper_bound(y)\n",
    "\n",
    "      # Updating the upper bound\n",
    "      if Z < Z_UB\n",
    "        Z_UB = Z\n",
    "        x_best = x\n",
    "        y_best = y\n",
    "      end\n",
    "\n",
    "      # Updating the lower bound\n",
    "      if Z_D > Z_LB\n",
    "        Z_LB = Z_D\n",
    "      end\n",
    "\n",
    "      # Adding the bounds from the current iteration to the record\n",
    "      push!(UB, Z)\n",
    "      push!(LB, Z_D)\n",
    "\n",
    "      # Determining the step size and updating the multiplier\n",
    "      theta = 1.0\n",
    "      residual = 1 .- transpose(sum(x_D, dims=1))\n",
    "      t = theta * (Z_UB - Z_D) / sum(residual.^2)\n",
    "      lambda = lambda + t * residual\n",
    "\n",
    "      # Computing the optimality gap\n",
    "      opt_gap = (Z_UB-Z_LB) / Z_UB\n",
    "      if opt_gap < 0.000001\n",
    "        break\n",
    "      end\n",
    "    end\n",
    "\n",
    "    return Z_UB, x_best, y_best, UB, LB\n",
    "end\n",
    "\n",
    "\n",
    "# Finding the exact optimal solution\n",
    "Z_opt, x_opt, y_opt = optimal(p)\n",
    "# Finding a solution by Lagrangian relaxation\n",
    "Z_UB, x_best, y_best, UB, LB = lagrangian_relaxation(p)\n",
    "\n",
    "\n",
    "\n",
    "iter = 1:length(LB)\n",
    "fig = figure()\n",
    "\n",
    "# Plotting two datasets\n",
    "plot(iter, LB, color=\"red\", linewidth=2.0, linestyle=\"-\",\n",
    "   marker=\"o\", label=\"Lower Bound\")\n",
    "plot(iter, UB, color=\"blue\", linewidth=2.0, linestyle=\"-.\",\n",
    "   marker=\"D\", label=\"Upper Bound\")\n",
    "\n",
    "# Labeling axes\n",
    "xlabel(L\"iteration clock $k$\", fontsize=\"xx-large\")\n",
    "ylabel(\"Bounds\", fontsize=\"xx-large\")\n",
    "\n",
    "# Putting the legend and determining the location\n",
    "legend(loc=\"lower right\", fontsize=\"x-large\")\n",
    "\n",
    "# Add grid lines\n",
    "grid(color=\"#DDDDDD\", linestyle=\"-\", linewidth=1.0)\n",
    "tick_params(axis=\"both\", which=\"major\", labelsize=\"x-large\")\n",
    "\n",
    "# Title\n",
    "title(\"Lower and Upper Bounds\")\n",
    "savefig(\"./dataset&result/iterations.png\")\n",
    "savefig(\"./dataset&result/iterations.pdf\")\n",
    "close(fig)"
   ]
  },
  {
   "cell_type": "code",
   "execution_count": null,
   "metadata": {},
   "outputs": [],
   "source": []
  }
 ],
 "metadata": {
  "kernelspec": {
   "display_name": "",
   "name": ""
  },
  "language_info": {
   "name": ""
  }
 },
 "nbformat": 4,
 "nbformat_minor": 2
}
