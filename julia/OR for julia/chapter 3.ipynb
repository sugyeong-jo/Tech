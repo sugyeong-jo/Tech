{
 "cells": [
  {
   "cell_type": "markdown",
   "metadata": {},
   "source": [
    "본문은 권창현 교수님의 줄리아 책, julia programming for Operations Rsearch를 참고하여 정리하였습니다.\n",
    "> https://www.softcover.io/read/7b8eb7d0/juliabook2/frontmatter\n",
    "\n",
    "\n",
    "# Chapter 3. Basic of the Julia Language\n",
    "\n",
    "이 챕터에서는 기본적인 줄리아 문법을 정리하였다. \n",
    "나는 모르는것만 정리할 예정이다!\n",
    "\n",
    "## 3.1 Vector, Matrix, and Array\n",
    "matlab같은 언어체계를 가지고 있다고 한다. \n",
    "\n",
    "$$\n",
    "A = \\begin{bmatrix} 1 & 2 & 3 \\\\ 4 & 5 & 6 \\end{bmatrix}\t\n",
    "$$"
   ]
  },
  {
   "cell_type": "code",
   "execution_count": 1,
   "metadata": {},
   "outputs": [
    {
     "data": {
      "text/plain": [
       "2×3 Array{Int64,2}:\n",
       " 1  2  3\n",
       " 4  5  6"
      ]
     },
     "execution_count": 1,
     "metadata": {},
     "output_type": "execute_result"
    }
   ],
   "source": [
    "A = [1 2 3; 4 5 6]"
   ]
  },
  {
   "cell_type": "markdown",
   "metadata": {},
   "source": [
    "Transpose는 다음 두가지가 동일하다!"
   ]
  },
  {
   "cell_type": "code",
   "execution_count": 2,
   "metadata": {},
   "outputs": [
    {
     "data": {
      "text/plain": [
       "3×2 LinearAlgebra.Transpose{Int64,Array{Int64,2}}:\n",
       " 1  4\n",
       " 2  5\n",
       " 3  6"
      ]
     },
     "execution_count": 2,
     "metadata": {},
     "output_type": "execute_result"
    }
   ],
   "source": [
    "transpose(A)"
   ]
  },
  {
   "cell_type": "code",
   "execution_count": 3,
   "metadata": {},
   "outputs": [
    {
     "data": {
      "text/plain": [
       "3×2 LinearAlgebra.Adjoint{Int64,Array{Int64,2}}:\n",
       " 1  4\n",
       " 2  5\n",
       " 3  6"
      ]
     },
     "execution_count": 3,
     "metadata": {},
     "output_type": "execute_result"
    }
   ],
   "source": [
    "A'"
   ]
  },
  {
   "cell_type": "code",
   "execution_count": 4,
   "metadata": {},
   "outputs": [
    {
     "data": {
      "text/plain": [
       "3×3 Array{Float64,2}:\n",
       "  1.11022e-16   1.0  -2.0\n",
       "  1.0           1.0  -4.0\n",
       " -1.0          -2.0   7.0"
      ]
     },
     "execution_count": 4,
     "metadata": {},
     "output_type": "execute_result"
    }
   ],
   "source": [
    "B = [1 3 2 ; 3 2 2 ; 1 1 1]\n",
    "inv(B)"
   ]
  },
  {
   "cell_type": "code",
   "execution_count": 6,
   "metadata": {},
   "outputs": [
    {
     "data": {
      "text/plain": [
       "3-element Array{Int64,1}:\n",
       " 1\n",
       " 2\n",
       " 3"
      ]
     },
     "execution_count": 6,
     "metadata": {},
     "output_type": "execute_result"
    }
   ],
   "source": [
    "a = [1; 2; 3]"
   ]
  },
  {
   "cell_type": "code",
   "execution_count": 7,
   "metadata": {},
   "outputs": [
    {
     "data": {
      "text/plain": [
       "3-element Array{Float64,1}:\n",
       " 1.0\n",
       " 2.0\n",
       " 3.0"
      ]
     },
     "execution_count": 7,
     "metadata": {},
     "output_type": "execute_result"
    }
   ],
   "source": [
    "b = [1.0; 2; 3]"
   ]
  },
  {
   "cell_type": "markdown",
   "metadata": {},
   "source": [
    "경우에 따라 특정 타입으로 정해주어야 할 때가 있다. ```Array```와 ```undef```를 사용함으로써 할 수 있다. 예를 들면 ```Float64```타입이면서 size는 3인 경우 다음과 같이 만들 수 있다. 정수를 넣어주었지만 결과는 Float64에 맞춰서 정의되는 것을 확인 할 수 있다. "
   ]
  },
  {
   "cell_type": "code",
   "execution_count": 8,
   "metadata": {},
   "outputs": [
    {
     "data": {
      "text/plain": [
       "3-element Array{Float64,1}:\n",
       " 6.90037052580953e-310\n",
       " 6.9003705258103e-310 \n",
       " 6.9003705258111e-310 "
      ]
     },
     "execution_count": 8,
     "metadata": {},
     "output_type": "execute_result"
    }
   ],
   "source": [
    "d = Array{Float64}(undef,3)"
   ]
  },
  {
   "cell_type": "code",
   "execution_count": 12,
   "metadata": {},
   "outputs": [
    {
     "data": {
      "text/plain": [
       "3-element Array{Float64,1}:\n",
       " 1.0\n",
       " 2.0\n",
       " 3.0"
      ]
     },
     "execution_count": 12,
     "metadata": {},
     "output_type": "execute_result"
    }
   ],
   "source": [
    "d[1] = 1\n",
    "d[2] = 2\n",
    "d[3] = 3\n",
    "d"
   ]
  },
  {
   "cell_type": "markdown",
   "metadata": {},
   "source": [
    "만약 array를 벡터나 메트릭스로 나타내야 한다면,  차원을 명시 적으로 지정하여 배열을 만드는 것이 좋다. 1x3 열 벡터의 경우 다음을 수행해야합니다."
   ]
  },
  {
   "cell_type": "code",
   "execution_count": 16,
   "metadata": {},
   "outputs": [
    {
     "data": {
      "text/plain": [
       "1×3 Array{Float64,2}:\n",
       " 6.90037e-310  6.90037e-310  6.90037e-310"
      ]
     },
     "execution_count": 16,
     "metadata": {},
     "output_type": "execute_result"
    }
   ],
   "source": [
    "p = Array{Float64}(undef, 1, 3)"
   ]
  },
  {
   "cell_type": "code",
   "execution_count": 17,
   "metadata": {},
   "outputs": [
    {
     "data": {
      "text/plain": [
       "1×3 Array{Float64,2}:\n",
       " 1.0  2.0  3.0"
      ]
     },
     "execution_count": 17,
     "metadata": {},
     "output_type": "execute_result"
    }
   ],
   "source": [
    "p[1] = 1\n",
    "p[2] = 2\n",
    "p[3] = 3\n",
    "p"
   ]
  },
  {
   "cell_type": "markdown",
   "metadata": {},
   "source": [
    "## 3.2 Tuple\n",
    "\n",
    "어레이타입 데이터는 데이터타입의 쌍이 될 수 있다. 예를 들면, (1,2), (3,4), (5,6)를 어레이로 저장하고 싶다면 다음과 같이 할 수 있다. (이때 타입은 Int64로 정하겠다.)"
   ]
  },
  {
   "cell_type": "code",
   "execution_count": 18,
   "metadata": {},
   "outputs": [
    {
     "data": {
      "text/plain": [
       "3-element Array{Tuple{Int64,Int64},1}:\n",
       " (139665038823432, 139665044104304)\n",
       " (139665044104400, 139665044104432)\n",
       " (139665044104464, 139665044013840)"
      ]
     },
     "execution_count": 18,
     "metadata": {},
     "output_type": "execute_result"
    }
   ],
   "source": [
    "pairs = Array{Tuple{Int64, Int64}}(undef, 3)"
   ]
  },
  {
   "cell_type": "code",
   "execution_count": 20,
   "metadata": {},
   "outputs": [
    {
     "data": {
      "text/plain": [
       "3-element Array{Tuple{Int64,Int64},1}:\n",
       " (1, 2)\n",
       " (3, 4)\n",
       " (5, 6)"
      ]
     },
     "execution_count": 20,
     "metadata": {},
     "output_type": "execute_result"
    }
   ],
   "source": [
    "pairs[1] = (1,2)\n",
    "pairs[2] = (3,4)\n",
    "pairs[3] = (5,6)\n",
    "pairs"
   ]
  },
  {
   "cell_type": "markdown",
   "metadata": {},
   "source": [
    "임의의 row는 어떻게 하지..?"
   ]
  },
  {
   "cell_type": "markdown",
   "metadata": {},
   "source": [
    "## 3.3 Indeces and Ranges\n",
    "\n",
    "array - vector, matrix나 기타 array - 을 range로 사용하기 유용하다. "
   ]
  },
  {
   "cell_type": "code",
   "execution_count": 21,
   "metadata": {},
   "outputs": [
    {
     "data": {
      "text/plain": [
       "3-element Array{Int64,1}:\n",
       " 10\n",
       " 40\n",
       " 70"
      ]
     },
     "execution_count": 21,
     "metadata": {},
     "output_type": "execute_result"
    }
   ],
   "source": [
    "a = [10; 20; 30; 40; 50; 60; 70; 80; 90]\n",
    "a[1:3:9] # 3번째 마다 9번째까지 뽑고 싶을 때"
   ]
  },
  {
   "cell_type": "code",
   "execution_count": 22,
   "metadata": {},
   "outputs": [
    {
     "data": {
      "text/plain": [
       "3-element Array{Int64,1}:\n",
       " 70\n",
       " 80\n",
       " 90"
      ]
     },
     "execution_count": 22,
     "metadata": {},
     "output_type": "execute_result"
    }
   ],
   "source": [
    "a[end-2:end]#끝은 9번쨰 이고, -2이니 7번째 부터 9번쨰 까지 나옴!"
   ]
  },
  {
   "cell_type": "code",
   "execution_count": 23,
   "metadata": {},
   "outputs": [
    {
     "data": {
      "text/plain": [
       "5-element Array{Int64,1}:\n",
       " 1\n",
       " 3\n",
       " 5\n",
       " 7\n",
       " 9"
      ]
     },
     "execution_count": 23,
     "metadata": {},
     "output_type": "execute_result"
    }
   ],
   "source": [
    "c = collect(1:2:9) #범위를 정의하고 사용할 수 있음! (index처럼)"
   ]
  },
  {
   "cell_type": "code",
   "execution_count": 24,
   "metadata": {},
   "outputs": [
    {
     "data": {
      "text/plain": [
       "3×3 Array{Int64,2}:\n",
       " 1  2  3\n",
       " 4  5  6\n",
       " 7  8  9"
      ]
     },
     "execution_count": 24,
     "metadata": {},
     "output_type": "execute_result"
    }
   ],
   "source": [
    "A= [1 2 3; 4 5 6; 7 8 9]"
   ]
  },
  {
   "cell_type": "code",
   "execution_count": 25,
   "metadata": {},
   "outputs": [
    {
     "data": {
      "text/plain": [
       "3-element Array{Int64,1}:\n",
       " 2\n",
       " 5\n",
       " 8"
      ]
     },
     "execution_count": 25,
     "metadata": {},
     "output_type": "execute_result"
    }
   ],
   "source": [
    "A[:, 2]  #A[행, 열]"
   ]
  },
  {
   "cell_type": "code",
   "execution_count": 27,
   "metadata": {},
   "outputs": [
    {
     "data": {
      "text/plain": [
       "3×2 Array{Int64,2}:\n",
       " 2  3\n",
       " 5  6\n",
       " 8  9"
      ]
     },
     "execution_count": 27,
     "metadata": {},
     "output_type": "execute_result"
    }
   ],
   "source": [
    "A[:, 2:3 ]"
   ]
  },
  {
   "cell_type": "markdown",
   "metadata": {},
   "source": [
    "## 3.4 Printing Messages\n",
    "println은 한 줄 씩 프린트 하는 거고, print는 붙어서 나온다!"
   ]
  },
  {
   "cell_type": "code",
   "execution_count": 29,
   "metadata": {},
   "outputs": [
    {
     "name": "stdout",
     "output_type": "stream",
     "text": [
      "a is 123.0, and a-10 is 113.0\n"
     ]
    }
   ],
   "source": [
    "a = 123.0\n",
    "println(\"a is $a, and a-10 is $(a-10)\")"
   ]
  },
  {
   "cell_type": "code",
   "execution_count": 31,
   "metadata": {},
   "outputs": [
    {
     "name": "stdout",
     "output_type": "stream",
     "text": [
      "The value of a  = 123.000000 "
     ]
    }
   ],
   "source": [
    "using Printf #C의 프린트 함수를 사용할 수 있음\n",
    "@printf(\"The %s of a  = %f \", \"value\", a) #%s: string, %f: floating number, %d: integer\n"
   ]
  },
  {
   "cell_type": "code",
   "execution_count": 41,
   "metadata": {},
   "outputs": [
    {
     "name": "stdout",
     "output_type": "stream",
     "text": [
      "c[1] = 123.12345\n",
      "c[2] = 10.983\n",
      "c[3] = 1.0932132\n",
      "\n",
      "@printf's result is followed\n",
      "\n",
      "c[1] = 123.123\n",
      "c[2] =  10.983\n",
      "c[3] =   1.093\n",
      "\n",
      "@sprintf's result is followed\n",
      "\n",
      "The value of a = 123.000000\n"
     ]
    }
   ],
   "source": [
    "c = [ 123.12345   ;\n",
    "       10.983     ;\n",
    "        1.0932132  ]\n",
    "for i in 1:length(c)\n",
    "    println(\"c[$i] = $(c[i])\")\n",
    "end\n",
    "\n",
    "println(\"\\n@printf's result is followed\\n\")\n",
    "for i in 1:length(c)\n",
    "    @printf(\"c[%d] = %7.3f\\n\", i, c[i])\n",
    "end\n",
    "\n",
    "println(\"\\n@sprintf's result is followed\\n\")\n",
    "str = @sprintf(\"The %s of a = %f\", \"value\", a) #string 버전!\n",
    "println(str)"
   ]
  },
  {
   "cell_type": "markdown",
   "metadata": {},
   "source": [
    "## 3.5 Collection, Dictionary, and For-Loop"
   ]
  },
  {
   "cell_type": "markdown",
   "metadata": {},
   "source": [
    "### Collection and For-Loop"
   ]
  },
  {
   "cell_type": "code",
   "execution_count": 43,
   "metadata": {},
   "outputs": [
    {
     "name": "stdout",
     "output_type": "stream",
     "text": [
      "This is number 1.\n",
      "This is number 2.\n",
      "This is number 3.\n",
      "This is number 4.\n",
      "This is number 5.\n"
     ]
    }
   ],
   "source": [
    "for i in 1:5\n",
    "    println(\"This is number $i.\")\n",
    "end"
   ]
  },
  {
   "cell_type": "code",
   "execution_count": 44,
   "metadata": {},
   "outputs": [
    {
     "name": "stdout",
     "output_type": "stream",
     "text": [
      "This is number 1.\n",
      "This is number 2.\n"
     ]
    }
   ],
   "source": [
    "for i in 1:5\n",
    "    if i >= 3\n",
    "        break\n",
    "    end\n",
    "    println(\"This is number $i.\")\n",
    "end"
   ]
  },
  {
   "cell_type": "markdown",
   "metadata": {},
   "source": [
    "### Dictionary"
   ]
  },
  {
   "cell_type": "code",
   "execution_count": 46,
   "metadata": {},
   "outputs": [
    {
     "data": {
      "text/plain": [
       "Dict{Any,Any} with 3 entries:\n",
       "  \"Magic Johnson\"   => \"basketball\"\n",
       "  \"Zinedine Zidane\" => \"football\"\n",
       "  \"Yuna Kim\"        => \"figure skating\""
      ]
     },
     "execution_count": 46,
     "metadata": {},
     "output_type": "execute_result"
    }
   ],
   "source": [
    "my_keys = [\"Zinedine Zidane\", \"Magic Johnson\", \"Yuna Kim\"]\n",
    "my_values = [\"football\", \"basketball\", \"figure skating\"]\n",
    "d = Dict()\n",
    "for i in 1:length(my_keys)\n",
    "    d[my_keys[i]] = my_values[i]\n",
    "end\n",
    "d"
   ]
  },
  {
   "cell_type": "code",
   "execution_count": 48,
   "metadata": {},
   "outputs": [
    {
     "name": "stdout",
     "output_type": "stream",
     "text": [
      "Magic Johnson is a basketball player.\n",
      "Zinedine Zidane is a football player.\n",
      "Diego Maradona is a football player.\n",
      "Yuna Kim is a figure skating player.\n"
     ]
    }
   ],
   "source": [
    "d[\"Diego Maradona\"] = \"football\" # add\n",
    "for (key, value) in d\n",
    "    println(\"$key is a $value player.\")\n",
    "end"
   ]
  },
  {
   "cell_type": "markdown",
   "metadata": {},
   "source": [
    " ### Dictionary - network"
   ]
  },
  {
   "cell_type": "code",
   "execution_count": 49,
   "metadata": {},
   "outputs": [
    {
     "data": {
      "text/plain": [
       "Dict{Any,Any} with 3 entries:\n",
       "  (1, 2) => 5\n",
       "  (4, 2) => 8\n",
       "  (3, 4) => 13"
      ]
     },
     "execution_count": 49,
     "metadata": {},
     "output_type": "execute_result"
    }
   ],
   "source": [
    "links = [ (1,2), (3,4), (4,2) ]\n",
    "link_costs = [ 5, 13, 8]\n",
    "\n",
    "link_dict = Dict()\n",
    "\n",
    "for i in 1:length(links)\n",
    "    link_dict[ links[i] ] = link_costs[i]\n",
    "end\n",
    "\n",
    "link_dict"
   ]
  },
  {
   "cell_type": "code",
   "execution_count": 50,
   "metadata": {},
   "outputs": [
    {
     "name": "stdout",
     "output_type": "stream",
     "text": [
      "Link (1, 2) has cost of 5.\n",
      "Link (4, 2) has cost of 8.\n",
      "Link (3, 4) has cost of 13.\n"
     ]
    }
   ],
   "source": [
    "for (link, cost) in link_dict\n",
    "    println(\"Link $link has cost of $cost.\")\n",
    "end"
   ]
  },
  {
   "cell_type": "markdown",
   "metadata": {},
   "source": [
    "## 3.6 Function\n",
    "\n",
    "$$\n",
    "f(x,y) = 3x +y\n",
    "$$"
   ]
  },
  {
   "cell_type": "code",
   "execution_count": 53,
   "metadata": {},
   "outputs": [
    {
     "data": {
      "text/plain": [
       "f (generic function with 1 method)"
      ]
     },
     "execution_count": 53,
     "metadata": {},
     "output_type": "execute_result"
    }
   ],
   "source": [
    "function f(x, y)\n",
    "    return 3x + y\n",
    "end\n",
    "\n",
    "#or\n",
    "\n",
    "f(x,y) = 3x+y"
   ]
  },
  {
   "cell_type": "code",
   "execution_count": 54,
   "metadata": {},
   "outputs": [
    {
     "name": "stdout",
     "output_type": "stream",
     "text": [
      "6\n",
      "96\n"
     ]
    }
   ],
   "source": [
    "println(f(1,3))\n",
    "println(3 * (f(3,2) + f(5,6)))"
   ]
  },
  {
   "cell_type": "code",
   "execution_count": 55,
   "metadata": {},
   "outputs": [
    {
     "data": {
      "text/plain": [
       "my_func (generic function with 1 method)"
      ]
     },
     "execution_count": 55,
     "metadata": {},
     "output_type": "execute_result"
    }
   ],
   "source": [
    "function my_func(n, m)\n",
    "    a = zeros(n,1)\n",
    "    b = ones(m, 1)\n",
    "    return a, b\n",
    "end\n",
    "    "
   ]
  },
  {
   "cell_type": "code",
   "execution_count": 57,
   "metadata": {},
   "outputs": [
    {
     "data": {
      "text/plain": [
       "([0.0; 0.0; 0.0], [1.0; 1.0])"
      ]
     },
     "execution_count": 57,
     "metadata": {},
     "output_type": "execute_result"
    }
   ],
   "source": [
    "x, y = my_func(3,2)"
   ]
  },
  {
   "cell_type": "code",
   "execution_count": 59,
   "metadata": {},
   "outputs": [
    {
     "name": "stdout",
     "output_type": "stream",
     "text": [
      "9.141120008059866\n"
     ]
    },
    {
     "data": {
      "text/plain": [
       "1×2 Array{Float64,2}:\n",
       " 14.0411  29.456"
      ]
     },
     "execution_count": 59,
     "metadata": {},
     "output_type": "execute_result"
    }
   ],
   "source": [
    "myfunc(x) = sin(x) + 3*x\n",
    "\n",
    "println(myfunc(3))\n",
    "\n",
    "myfunc.([5 10]) # '.' 은 요소 하나하나에 적용한다는 broadcast이다!\n",
    "\n"
   ]
  },
  {
   "cell_type": "markdown",
   "metadata": {},
   "source": [
    "## 3.7 Scope of Variables\n",
    "\n",
    "어떤 프로그래밍 언어에서든 variable이 어디에 적용되는지 이해하는 것은 중요하다."
   ]
  },
  {
   "cell_type": "code",
   "execution_count": 60,
   "metadata": {},
   "outputs": [
    {
     "data": {
      "text/plain": [
       "g (generic function with 1 method)"
      ]
     },
     "execution_count": 60,
     "metadata": {},
     "output_type": "execute_result"
    }
   ],
   "source": [
    "function f(x)\n",
    "  return x+2\n",
    "end\n",
    "\n",
    "function g(x)\n",
    "  return 3x+3\n",
    "end"
   ]
  },
  {
   "cell_type": "markdown",
   "metadata": {},
   "source": [
    "위와 같은 함수에서 사용된 x는 다른 함수에 다른 scope blocks에서 정의되므로 충돌하지 않는다. \n",
    "variable을 처음 정해줄 때 scope에 잘 맞춰 주어야 한다. 밑에 예제는 값이 틀리다!! (~~왜 틀리는거지..? 흠...~~)"
   ]
  },
  {
   "cell_type": "code",
   "execution_count": 62,
   "metadata": {},
   "outputs": [
    {
     "data": {
      "text/plain": [
       "128.0"
      ]
     },
     "execution_count": 62,
     "metadata": {},
     "output_type": "execute_result"
    }
   ],
   "source": [
    "function f(x)\n",
    "  return x+a\n",
    "end\n",
    "\n",
    "function run()\n",
    "  a = 10\n",
    "  return f(5)\n",
    "end\n",
    "\n",
    "run()"
   ]
  },
  {
   "cell_type": "markdown",
   "metadata": {},
   "source": [
    "다음처럼 처음 variable은 밖에 위치하게 해줌으로써 parent scop block에 넣어야 한다."
   ]
  },
  {
   "cell_type": "code",
   "execution_count": 63,
   "metadata": {},
   "outputs": [
    {
     "data": {
      "text/plain": [
       "15"
      ]
     },
     "execution_count": 63,
     "metadata": {},
     "output_type": "execute_result"
    }
   ],
   "source": [
    "function f(x)\n",
    "  return x+a\n",
    "end\n",
    "\n",
    "function run()\n",
    "  return f(5)\n",
    "end\n",
    "\n",
    "a = 10\n",
    "run()"
   ]
  },
  {
   "cell_type": "code",
   "execution_count": 66,
   "metadata": {},
   "outputs": [
    {
     "name": "stdout",
     "output_type": "stream",
     "text": [
      "1\n",
      "5\n"
     ]
    }
   ],
   "source": [
    "function f2(x)\n",
    "  a = 0\n",
    "  return x+a\n",
    "end\n",
    "\n",
    "a = 5\n",
    "println(f2(1)) # a는 안바뀐다! \n",
    "println(a)\n",
    "\n",
    "#이런 경우들을 조심하자~!"
   ]
  },
  {
   "cell_type": "code",
   "execution_count": 67,
   "metadata": {},
   "outputs": [
    {
     "name": "stdout",
     "output_type": "stream",
     "text": [
      "1\n",
      "5\n"
     ]
    }
   ],
   "source": [
    "function f3(x)\n",
    "  _a = 0 #'_'를 붙여줌으로써 local variable임을 의미하게 해주었다.\n",
    "  return x + _a\n",
    "end\n",
    "\n",
    "a = 5\n",
    "println(f3(1)) \n",
    "println(a)"
   ]
  },
  {
   "cell_type": "code",
   "execution_count": 68,
   "metadata": {},
   "outputs": [
    {
     "name": "stdout",
     "output_type": "stream",
     "text": [
      "6\n",
      "5\n"
     ]
    }
   ],
   "source": [
    "function f4(x, a)\n",
    "  return x + a\n",
    "end\n",
    "\n",
    "a = 5\n",
    "println(f4(1, a)) #a를 인풋으로 넣어준다고 명시했으므로 쇽 잘 들어간다.\n",
    "println(a)"
   ]
  },
  {
   "cell_type": "markdown",
   "metadata": {},
   "source": [
    "~~책에서는 밑에거는 안된다 했는데.. 된다..?~~"
   ]
  },
  {
   "cell_type": "code",
   "execution_count": 72,
   "metadata": {},
   "outputs": [
    {
     "data": {
      "text/plain": [
       "15"
      ]
     },
     "execution_count": 72,
     "metadata": {},
     "output_type": "execute_result"
    }
   ],
   "source": [
    "a = [1 2 3 4 5]\n",
    "s = 0\n",
    "for i in 1:length(a)\n",
    "  s += a[i]\n",
    "end\n",
    "s"
   ]
  },
  {
   "cell_type": "code",
   "execution_count": 70,
   "metadata": {},
   "outputs": [
    {
     "data": {
      "text/plain": [
       "15"
      ]
     },
     "execution_count": 70,
     "metadata": {},
     "output_type": "execute_result"
    }
   ],
   "source": [
    "function my_sum(a)\n",
    "  s = 0\n",
    "  for i in 1:5\n",
    "    s += a[i]\n",
    "  end\n",
    "  return s\n",
    "end\n",
    "\n",
    "a = [1; 2; 3; 4; 5]\n",
    "my_sum(a)"
   ]
  },
  {
   "cell_type": "markdown",
   "metadata": {},
   "source": [
    "## 3.8 Random Number Generation\n",
    "\n",
    "statistic 함수들을 알아보자!"
   ]
  },
  {
   "cell_type": "code",
   "execution_count": 74,
   "metadata": {},
   "outputs": [
    {
     "data": {
      "text/plain": [
       "10-element Array{Float64,1}:\n",
       " 55.60607682571125 \n",
       " 51.18967165084307 \n",
       " 41.24298827903912 \n",
       " 48.29426171681405 \n",
       " 49.44508983782427 \n",
       " 52.152303605114135\n",
       " 50.13654446099786 \n",
       " 53.90228956685851 \n",
       " 49.05312079354904 \n",
       " 51.46882676643043 "
      ]
     },
     "execution_count": 74,
     "metadata": {},
     "output_type": "execute_result"
    }
   ],
   "source": [
    "function my_randn(n, mu, sigma)\n",
    "  return randn(n) .* sigma .+ mu\n",
    "end\n",
    "\n",
    "my_randn(10, 50, 3)"
   ]
  },
  {
   "cell_type": "code",
   "execution_count": 76,
   "metadata": {},
   "outputs": [
    {
     "name": "stdout",
     "output_type": "stream",
     "text": [
      "\u001b[32m\u001b[1m  Updating\u001b[22m\u001b[39m registry at `~/.julia/registries/General`\n",
      "\u001b[32m\u001b[1m  Updating\u001b[22m\u001b[39m git-repo `https://github.com/JuliaRegistries/General.git`\n",
      "\u001b[2K\u001b[?25h\u001b[32m\u001b[1m Resolving\u001b[22m\u001b[39m package versions...\n",
      "\u001b[32m\u001b[1m Installed\u001b[22m\u001b[39m Rmath ────────────── v0.6.0\n",
      "\u001b[32m\u001b[1m Installed\u001b[22m\u001b[39m Tables ───────────── v1.0.4\n",
      "\u001b[32m\u001b[1m Installed\u001b[22m\u001b[39m Mustache ─────────── v1.0.2\n",
      "\u001b[32m\u001b[1m Installed\u001b[22m\u001b[39m Parsers ──────────── v1.0.1\n",
      "\u001b[32m\u001b[1m Installed\u001b[22m\u001b[39m DataStructures ───── v0.17.12\n",
      "\u001b[32m\u001b[1m Installed\u001b[22m\u001b[39m MutableArithmetics ─ v0.2.9\n",
      "\u001b[32m\u001b[1m Installed\u001b[22m\u001b[39m ForwardDiff ──────── v0.10.10\n",
      "\u001b[32m\u001b[1m Installed\u001b[22m\u001b[39m StatsFuns ────────── v0.9.4\n",
      "\u001b[32m\u001b[1m  Updating\u001b[22m\u001b[39m `~/.julia/environments/v1.1/Project.toml`\n",
      " \u001b[90m [4c63d2b9]\u001b[39m\u001b[92m + StatsFuns v0.9.4\u001b[39m\n",
      "\u001b[32m\u001b[1m  Updating\u001b[22m\u001b[39m `~/.julia/environments/v1.1/Manifest.toml`\n",
      " \u001b[90m [864edb3b]\u001b[39m\u001b[93m ↑ DataStructures v0.17.10 ⇒ v0.17.12\u001b[39m\n",
      " \u001b[90m [f6369f11]\u001b[39m\u001b[93m ↑ ForwardDiff v0.10.9 ⇒ v0.10.10\u001b[39m\n",
      " \u001b[90m [ffc61752]\u001b[39m\u001b[93m ↑ Mustache v1.0.0 ⇒ v1.0.2\u001b[39m\n",
      " \u001b[90m [d8a4904e]\u001b[39m\u001b[93m ↑ MutableArithmetics v0.2.7 ⇒ v0.2.9\u001b[39m\n",
      " \u001b[90m [69de0a69]\u001b[39m\u001b[93m ↑ Parsers v0.3.12 ⇒ v1.0.1\u001b[39m\n",
      " \u001b[90m [79098fc4]\u001b[39m\u001b[92m + Rmath v0.6.0\u001b[39m\n",
      " \u001b[90m [4c63d2b9]\u001b[39m\u001b[92m + StatsFuns v0.9.4\u001b[39m\n",
      " \u001b[90m [bd369af6]\u001b[39m\u001b[93m ↑ Tables v0.2.11 ⇒ v1.0.4\u001b[39m\n",
      "\u001b[32m\u001b[1m  Building\u001b[22m\u001b[39m Rmath → `~/.julia/packages/Rmath/BoBag/deps/build.log`\n"
     ]
    },
    {
     "name": "stderr",
     "output_type": "stream",
     "text": [
      "┌ Info: Precompiling StatsFuns [4c63d2b9-4356-54db-8cca-17b64c39e42c]\n",
      "└ @ Base loading.jl:1186\n"
     ]
    }
   ],
   "source": [
    "#using Pkg\n",
    "#Pkg.add(\"StatsFuns\")\n",
    "using StatsFuns"
   ]
  },
  {
   "cell_type": "code",
   "execution_count": 79,
   "metadata": {},
   "outputs": [
    {
     "name": "stdout",
     "output_type": "stream",
     "text": [
      "0.10648266850745075\n",
      "0.5\n",
      "50.0\n"
     ]
    }
   ],
   "source": [
    "mu = 50; sigma = 3;\n",
    "println(normpdf(mu, sigma, 52)) # The probability density function (PDF) value evaluated at 52\n",
    "println(normcdf(mu, sigma, 50))# The cumulative distribution function (CDF) value evaluated at 50\n",
    "println(norminvcdf(mu, sigma, 0.5))# The inverse of CDF for probability 0.5"
   ]
  },
  {
   "cell_type": "code",
   "execution_count": 81,
   "metadata": {},
   "outputs": [
    {
     "data": {
      "text/plain": [
       "3-element Array{String,1}:\n",
       " \"This is the first line.\" \n",
       " \"This is the second line.\"\n",
       " \"This is the third line.\" "
      ]
     },
     "execution_count": 81,
     "metadata": {},
     "output_type": "execute_result"
    }
   ],
   "source": [
    "## 3.9 File Input / Output\n",
    "datafilename = \"data.txt\"\n",
    "datafile = open(datafilename)\n",
    "data = readlines(datafile)\n",
    "close(datafile)\n",
    "data"
   ]
  },
  {
   "cell_type": "code",
   "execution_count": 82,
   "metadata": {},
   "outputs": [
    {
     "name": "stdout",
     "output_type": "stream",
     "text": [
      "This is the first line.\n",
      "This is the second line.\n",
      "This is the third line.\n"
     ]
    }
   ],
   "source": [
    "for line in data\n",
    "  println(line)\n",
    "  # process each line here...\n",
    "end"
   ]
  },
  {
   "cell_type": "code",
   "execution_count": 89,
   "metadata": {},
   "outputs": [],
   "source": [
    "outputfilename = \"results1.txt\"\n",
    "outputfile = open(outputfilename, \"w\")\n",
    "print(outputfile, \"Magic Johnson\")\n",
    "println(outputfile, \" is a basketball player.\")\n",
    "println(outputfile, \"Michael Jordan is also a basketball player.\")\n",
    "close(outputfile)\n",
    "\n",
    "outputfilename = \"results2.txt\"\n",
    "outputfile = open(outputfilename, \"a\")\n",
    "#output = open(\"results1.txt\")\n",
    "#println(outputfile, output)\n",
    "println(outputfile, \"Yuna Kim is a figure skating player.\")\n",
    "close(outputfile)"
   ]
  },
  {
   "cell_type": "markdown",
   "metadata": {},
   "source": [
    "### read csv"
   ]
  },
  {
   "cell_type": "code",
   "execution_count": 92,
   "metadata": {},
   "outputs": [
    {
     "name": "stdout",
     "output_type": "stream",
     "text": [
      "AbstractString[\"start node\" \"end node\" \"link length\"]"
     ]
    },
    {
     "data": {
      "text/plain": [
       "5×3 Array{Float64,2}:\n",
       " 1.0  2.0  2.0\n",
       " 1.0  3.0  4.5\n",
       " 2.0  3.0  6.0\n",
       " 2.0  4.0  3.0\n",
       " 3.0  4.0  5.0"
      ]
     },
     "execution_count": 92,
     "metadata": {},
     "output_type": "execute_result"
    }
   ],
   "source": [
    "using DelimitedFiles\n",
    "csvfilename = \"data.csv\"\n",
    "csvdata = readdlm(csvfilename, ',', header=true)\n",
    "data = csvdata[1]\n",
    "header = csvdata[2]\n",
    "print(header)\n",
    "data"
   ]
  },
  {
   "cell_type": "code",
   "execution_count": 93,
   "metadata": {},
   "outputs": [
    {
     "data": {
      "text/plain": [
       "5-element Array{Int64,1}:\n",
       " 1\n",
       " 1\n",
       " 2\n",
       " 2\n",
       " 3"
      ]
     },
     "execution_count": 93,
     "metadata": {},
     "output_type": "execute_result"
    }
   ],
   "source": [
    "start_node = round.(Int, data[:,1])"
   ]
  },
  {
   "cell_type": "code",
   "execution_count": 94,
   "metadata": {},
   "outputs": [
    {
     "data": {
      "text/plain": [
       "5-element Array{Int64,1}:\n",
       " 2\n",
       " 3\n",
       " 3\n",
       " 4\n",
       " 4"
      ]
     },
     "execution_count": 94,
     "metadata": {},
     "output_type": "execute_result"
    }
   ],
   "source": [
    " end_node = round.(Int, data[:,2])"
   ]
  },
  {
   "cell_type": "code",
   "execution_count": 95,
   "metadata": {},
   "outputs": [
    {
     "data": {
      "text/plain": [
       "5-element Array{Float64,1}:\n",
       " 2.0\n",
       " 4.5\n",
       " 6.0\n",
       " 3.0\n",
       " 5.0"
      ]
     },
     "execution_count": 95,
     "metadata": {},
     "output_type": "execute_result"
    }
   ],
   "source": [
    "link_length = data[:,3]"
   ]
  },
  {
   "cell_type": "code",
   "execution_count": 96,
   "metadata": {},
   "outputs": [],
   "source": [
    "value1 = [1.4; 3.1; 5.3; 2.7]\n",
    "value2 = [4.3; 7.0; 3.6; 6.2]\n",
    "resultfile = open(\"result.csv\", \"w\")\n",
    "println(resultfile, \"node, first value, second value\")\n",
    "for i in 1:length(value1)\n",
    "  println(resultfile, \"$i, $(value1[i]), $(value2[i])\")\n",
    "end\n",
    "close(resultfile)"
   ]
  },
  {
   "cell_type": "code",
   "execution_count": 99,
   "metadata": {},
   "outputs": [
    {
     "name": "stdout",
     "output_type": "stream",
     "text": [
      "\u001b[32m\u001b[1m Resolving\u001b[22m\u001b[39m package versions...\n",
      "\u001b[32m\u001b[1m Installed\u001b[22m\u001b[39m Reexport ───── v0.2.0\n",
      "\u001b[32m\u001b[1m Installed\u001b[22m\u001b[39m MacroTools ─── v0.5.5\n",
      "\u001b[32m\u001b[1m Installed\u001b[22m\u001b[39m LaTeXStrings ─ v1.1.0\n",
      "\u001b[32m\u001b[1m Installed\u001b[22m\u001b[39m PyCall ─────── v1.91.4\n",
      "\u001b[32m\u001b[1m Installed\u001b[22m\u001b[39m PyPlot ─────── v2.9.0\n",
      "\u001b[32m\u001b[1m Installed\u001b[22m\u001b[39m ColorTypes ─── v0.10.0\n",
      "\u001b[32m\u001b[1m Installed\u001b[22m\u001b[39m Colors ─────── v0.12.0\n",
      "\u001b[32m\u001b[1m  Updating\u001b[22m\u001b[39m `~/.julia/environments/v1.1/Project.toml`\n",
      " \u001b[90m [d330b81b]\u001b[39m\u001b[92m + PyPlot v2.9.0\u001b[39m\n",
      "\u001b[32m\u001b[1m  Updating\u001b[22m\u001b[39m `~/.julia/environments/v1.1/Manifest.toml`\n",
      " \u001b[90m [3da002f7]\u001b[39m\u001b[92m + ColorTypes v0.10.0\u001b[39m\n",
      " \u001b[90m [5ae59095]\u001b[39m\u001b[92m + Colors v0.12.0\u001b[39m\n",
      " \u001b[90m [53c48c17]\u001b[39m\u001b[92m + FixedPointNumbers v0.8.0\u001b[39m\n",
      " \u001b[90m [b964fa9f]\u001b[39m\u001b[92m + LaTeXStrings v1.1.0\u001b[39m\n",
      " \u001b[90m [1914dd2f]\u001b[39m\u001b[92m + MacroTools v0.5.5\u001b[39m\n",
      " \u001b[90m [438e738f]\u001b[39m\u001b[92m + PyCall v1.91.4\u001b[39m\n",
      " \u001b[90m [d330b81b]\u001b[39m\u001b[92m + PyPlot v2.9.0\u001b[39m\n",
      " \u001b[90m [189a3867]\u001b[39m\u001b[92m + Reexport v0.2.0\u001b[39m\n",
      "\u001b[32m\u001b[1m  Building\u001b[22m\u001b[39m PyCall → `~/.julia/packages/PyCall/zqDXB/deps/build.log`\n"
     ]
    },
    {
     "name": "stderr",
     "output_type": "stream",
     "text": [
      "┌ Info: Precompiling PyPlot [d330b81b-6aea-500a-939a-2ce795aea3ee]\n",
      "└ @ Base loading.jl:1186\n",
      "┌ Warning: Module Conda with build ID 2170011602138119 is missing from the cache.\n",
      "│ This may mean Conda [8f4d0f93-b110-5947-807f-2305c1781a2d] does not support precompilation but is imported by a module that does.\n",
      "└ @ Base loading.jl:947\n",
      "┌ Warning: Module Conda with build ID 2170011602138119 is missing from the cache.\n",
      "│ This may mean Conda [8f4d0f93-b110-5947-807f-2305c1781a2d] does not support precompilation but is imported by a module that does.\n",
      "└ @ Base loading.jl:947\n",
      "┌ Info: Precompiling PyCall [438e738f-606a-5dbb-bf0a-cddfbfd45ab0]\n",
      "└ @ Base loading.jl:1186\n",
      "┌ Warning: Module Conda with build ID 2170011602138119 is missing from the cache.\n",
      "│ This may mean Conda [8f4d0f93-b110-5947-807f-2305c1781a2d] does not support precompilation but is imported by a module that does.\n",
      "└ @ Base loading.jl:947\n",
      "┌ Info: Precompiling MacroTools [1914dd2f-81c6-5fcd-8719-6d5c9610ff09]\n",
      "└ @ Base loading.jl:1186\n",
      "┌ Info: Precompiling Colors [5ae59095-9a9b-59fe-a467-6f913c188581]\n",
      "└ @ Base loading.jl:1186\n",
      "┌ Info: Precompiling LaTeXStrings [b964fa9f-0449-5b57-a5c2-d3ea65f4040f]\n",
      "└ @ Base loading.jl:1186\n"
     ]
    }
   ],
   "source": [
    "using Pkg\n",
    "Pkg.add(\"PyPlot\")\n",
    "using PyPlot"
   ]
  },
  {
   "cell_type": "code",
   "execution_count": 100,
   "metadata": {},
   "outputs": [],
   "source": [
    "using PyPlot\n",
    "\n",
    "# Preparing a figure object\n",
    "fig = figure()\n",
    "\n",
    "# Data\n",
    "x = range(0, stop=2*pi, length=1000)\n",
    "y = sin.(3*x)\n",
    "\n",
    "# Plotting with linewidth and linestyle specified\n",
    "plot(x, y, color=\"blue\", linewidth=2.0, linestyle=\"--\")\n",
    "\n",
    "# Labeling the axes\n",
    "xlabel(L\"value of $x$\")\n",
    "ylabel(L\"\\sin(3x)\")\n",
    "\n",
    "# Title\n",
    "title(\"Test plotting\")\n",
    "\n",
    "# Save the figure as PNG and PDF\n",
    "savefig(\"plot1.png\")\n",
    "savefig(\"plot1.pdf\")\n",
    "\n",
    "# Close the figure object\n",
    "close(fig)"
   ]
  },
  {
   "cell_type": "code",
   "execution_count": 101,
   "metadata": {},
   "outputs": [],
   "source": [
    "using PyPlot\n",
    "\n",
    "# Data\n",
    "lower_bound = [4.0, 4.2, 4.4, 4.8, 4.9, 4.95, 4.99, 5.00]\n",
    "upper_bound = [5.4, 5.3, 5.3, 5.2, 5.2, 5.15, 5.10, 5.05]\n",
    "iter = 1:8\n",
    "\n",
    "# Creating a new figure object\n",
    "fig = figure()\n",
    "\n",
    "# Plotting two datasets\n",
    "plot(iter, lower_bound, color=\"red\", linewidth=2.0, linestyle=\"-\",\n",
    " marker=\"o\", label=L\"Lower Bound $Z^k_L$\")\n",
    "plot(iter, upper_bound, color=\"blue\", linewidth=2.0, linestyle=\"-.\",\n",
    " marker=\"D\", label=L\"Upper Bound $Z^k_U$\")\n",
    "\n",
    "# Labeling axes\n",
    "xlabel(L\"iteration clock $k$\", fontsize=\"xx-large\")\n",
    "ylabel(\"objective function value\", fontsize=\"xx-large\")\n",
    "\n",
    "# Putting the legend and determining the location\n",
    "legend(loc=\"upper right\", fontsize=\"x-large\")\n",
    "\n",
    "# Add grid lines\n",
    "grid(color=\"#DDDDDD\", linestyle=\"-\", linewidth=1.0)\n",
    "tick_params(axis=\"both\", which=\"major\", labelsize=\"x-large\")\n",
    "\n",
    "# Title\n",
    "title(\"Lower and Upper Bounds\")\n",
    "\n",
    "# Save the figure as PNG and PDF\n",
    "savefig(\"plot2.png\")\n",
    "savefig(\"plot2.pdf\")\n",
    "\n",
    "# Closing the figure object\n",
    "close(fig)"
   ]
  },
  {
   "cell_type": "code",
   "execution_count": 102,
   "metadata": {},
   "outputs": [
    {
     "name": "stderr",
     "output_type": "stream",
     "text": [
      "┌ Warning: `getindex(o::PyObject, s::Symbol)` is deprecated in favor of dot overloading (`getproperty`) so elements should now be accessed as e.g. `o.s` instead of `o[:s]`.\n",
      "│   caller = top-level scope at In[102]:9\n",
      "└ @ Core In[102]:9\n"
     ]
    }
   ],
   "source": [
    "using PyPlot\n",
    "\n",
    "# Data\n",
    "data = randn(100) # Some Random Data\n",
    "nbins = 10        # Number of bins\n",
    "\n",
    "# Creating a new figure object\n",
    "fig = figure()\n",
    "\n",
    "# Histogram\n",
    "plt[:hist](data, nbins)\n",
    "\n",
    "# Title\n",
    "title(\"Histogram\")\n",
    "\n",
    "# Save the figure as PNG and PDF\n",
    "savefig(\"plot3.png\")\n",
    "savefig(\"plot3.pdf\")\n",
    "\n",
    "# Closing the figure object\n",
    "close(fig)"
   ]
  }
 ],
 "metadata": {
  "kernelspec": {
   "display_name": "Julia 1.1.0",
   "language": "julia",
   "name": "julia-1.1"
  },
  "language_info": {
   "file_extension": ".jl",
   "mimetype": "application/julia",
   "name": "julia",
   "version": "1.1.0"
  }
 },
 "nbformat": 4,
 "nbformat_minor": 2
}
