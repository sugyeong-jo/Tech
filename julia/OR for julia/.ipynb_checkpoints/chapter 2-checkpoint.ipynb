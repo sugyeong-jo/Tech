{
 "cells": [
  {
   "cell_type": "markdown",
   "metadata": {},
   "source": [
    "본문은 권창현 교수님의 줄리아 책, julia programming for Operations Rsearch를 참고하여 정리하였습니다.\n",
    "> https://www.softcover.io/read/7b8eb7d0/juliabook2/frontmatter\n",
    "\n",
    "\n",
    "# Chapter 2. Simple Linear Optimization\n",
    "\n",
    "## 2.1 Linear programming (LP) Problems\n",
    "\n",
    "\n",
    "$$max \\sum_{i=1}^3 c_i x_i$$\n",
    "\n",
    "subject to\n",
    "\n",
    "$$\\mathbf{Ax \\le b}$$\n",
    "\n",
    "$$-x_1 + x_2 +3x_3 \\le -5$$\n",
    "$$x_1 + 3x_2 -7x_3 \\le 10$$\n",
    "$$0\\le x_i, i = \\{1,2,3\\} $$\n",
    "$$x_1\\le10$$\n"
   ]
  },
  {
   "cell_type": "code",
   "execution_count": 229,
   "metadata": {},
   "outputs": [
    {
     "name": "stdout",
     "output_type": "stream",
     "text": [
      "Max x1 + 2 x2 + 5 x3\n",
      "Subject to\n",
      " constraint1 : -x1 + x2 + 3 x3 ≤ -5.0\n",
      " constraint2 : x1 + 3 x2 - 7 x3 ≤ 10.0\n",
      " x1 ≥ 0.0\n",
      " x2 ≥ 0.0\n",
      " x3 ≥ 0.0\n",
      " x1 ≤ 10.0\n"
     ]
    }
   ],
   "source": [
    "using JuMP, Clp\n",
    "\n",
    "#=\n",
    "모델을 선언해준다. 여기서는 Clp를 사용했다.\n",
    "=#\n",
    "m = Model(Clp.Optimizer)\n",
    "\n",
    "\n",
    "#=\n",
    "변수를 선언해준다.\n",
    "@variable은 JuMP 패키지에서 macros라고 하며, 이는 작업을 반복적으로 해준다.\n",
    "@objective도 함께 해준다!\n",
    "=#\n",
    "@variable(m, 0<= x1 <=10)\n",
    "@variable(m, x2 >=0)\n",
    "@variable(m, x3 >=0)\n",
    "\n",
    "@objective(m, Max, x1 + 2x2 + 5x3)\n",
    "\n",
    "#=\n",
    "'constraint1, 2'는 제약조건의 이름이며, 이는 추후 dual variable 값들과 연관된 것을 찾을때 유용하다.\n",
    "=#\n",
    "@constraint(m, constraint1, -x1 + x2 + 3x3 <= -5)\n",
    "@constraint(m, constraint2, x1 + 3x2 - 7x3 <= 10)\n",
    "\n",
    "#=\n",
    "모델을 확인해준다.\n",
    "=#\n",
    "print(m)"
   ]
  },
  {
   "cell_type": "code",
   "execution_count": 230,
   "metadata": {},
   "outputs": [
    {
     "name": "stdout",
     "output_type": "stream",
     "text": [
      "Coin0506I Presolve 2 (0) rows, 3 (0) columns and 6 (0) elements\n",
      "Clp0006I 0  Obj 0 Primal inf 1.6666666 (1) Dual inf 12.666666 (3)\n",
      "Clp0006I 2  Obj 19.0625\n",
      "Clp0000I Optimal - objective value 19.0625\n",
      "Clp0032I Optimal objective 19.0625 - 2 iterations time 0.002\n"
     ]
    }
   ],
   "source": [
    "#=\n",
    "솔버를 작동!\n",
    "=#\n",
    "JuMP.optimize!(m)"
   ]
  },
  {
   "cell_type": "code",
   "execution_count": 231,
   "metadata": {},
   "outputs": [
    {
     "name": "stdout",
     "output_type": "stream",
     "text": [
      "Optimal solutions:\n",
      "x1 = 10.0\n",
      "x2 = 2.1875\n",
      "x3 = 0.9374999999999999\n",
      "Dual Variables:\n",
      "dual1 = 1.8125\n",
      "dual2 = 0.0625\n",
      "Dual Variables (conic):\n",
      "dual1 = -1.8125\n",
      "dual2 = -0.0625\n"
     ]
    }
   ],
   "source": [
    "#=\n",
    "JuMP.value()에 결과값들이 있다. \n",
    "여기서 println()은 결과값을 프린트하고 한 줄을 띈다. 그렇게 하고 싶지 않다면 print()를 사용하자.\n",
    "=#\n",
    "println(\"Optimal solutions:\")\n",
    "println(\"x1 = \", JuMP.value(x1))\n",
    "println(\"x2 = \", JuMP.value(x2))\n",
    "println(\"x3 = \", JuMP.value(x3))\n",
    "\n",
    "#=\n",
    "optimal dual variables 값들을 얻기 위해 JuMP.shadow_price()를 제약조건 이름과 함께 사용한다.\n",
    "=#\n",
    "println(\"Dual Variables:\")\n",
    "println(\"dual1 = \", JuMP.shadow_price(constraint1))\n",
    "println(\"dual2 = \", JuMP.shadow_price(constraint2))\n",
    "\n",
    "#=\n",
    "JuMP.dual()이라는 함수도 정의되어있다. 하지만 이 사인은 기대했던 결과가 아닌데, conic duality의 규칙을 따르기 때문이다.\n",
    "선형 최적화 문제의 경우 JuMP.shadow_price()가 대부분의 표준 교과서에와 같은 값을 제공한다.\n",
    "=#\n",
    "println(\"Dual Variables (conic):\")\n",
    "println(\"dual1 = \", JuMP.dual(constraint1))\n",
    "println(\"dual2 = \", JuMP.dual(constraint2))"
   ]
  },
  {
   "cell_type": "markdown",
   "metadata": {},
   "source": [
    "## 2.2 Alternative Ways of Writing LP Problems"
   ]
  },
  {
   "cell_type": "markdown",
   "metadata": {},
   "source": [
    "위 예제는 array 로 변수를 정했다. 하지만 다음과 같이 vector로도 할수 있다."
   ]
  },
  {
   "cell_type": "code",
   "execution_count": 232,
   "metadata": {},
   "outputs": [
    {
     "name": "stdout",
     "output_type": "stream",
     "text": [
      "Coin0506I Presolve 2 (-1) rows, 3 (0) columns and 6 (-1) elements\n",
      "Clp0006I 0  Obj 4.8999999 Primal inf 0.033332367 (1) Dual inf 12.666664 (3)\n",
      "Clp0006I 2  Obj 19.0625\n",
      "Clp0000I Optimal - objective value 19.0625\n",
      "Coin0511I After Postsolve, objective 19.0625, infeasibilities - dual 0 (0), primal 0 (0)\n",
      "Clp0032I Optimal objective 19.0625 - 2 iterations time 0.002, Presolve 0.00\n"
     ]
    }
   ],
   "source": [
    "m = Model(Clp.Optimizer)\n",
    "\n",
    "@variable(m, x[1:3] >= 0)\n",
    "\n",
    "c = [1; 2; 5]\n",
    "@objective(m, Max, sum( c[i]*x[i] for i in 1:3))\n",
    "\n",
    "A =[-1 1 3; 1 3 -7] #제약조건들의 계수\n",
    "b = [-5; 10] #rhs\n",
    "\n",
    "@constraint(m, constraint1, sum( A[1, i] * x[i] for i in 1:3) <= b[1])\n",
    "@constraint(m, constraint2, sum( A[2, i] * x[i] for i in 1:3) <= b[2])\n",
    "@constraint(m, bound, x[1] <= 10)\n",
    "\n",
    "JuMP.optimize!(m)"
   ]
  },
  {
   "cell_type": "code",
   "execution_count": 233,
   "metadata": {},
   "outputs": [
    {
     "name": "stdout",
     "output_type": "stream",
     "text": [
      "Optimal solutions:\n",
      "x1 = 10.0\n",
      "x2 = 2.1875\n",
      "x3 = 0.9374999999999999\n",
      "Dual Variables:\n",
      "dual1 = 1.8125\n",
      "dual2 = 0.0625\n"
     ]
    }
   ],
   "source": [
    "println(\"Optimal solutions:\")\n",
    "println(\"x1 = \", JuMP.value(x1))\n",
    "println(\"x2 = \", JuMP.value(x2))\n",
    "println(\"x3 = \", JuMP.value(x3))\n",
    "\n",
    "println(\"Dual Variables:\")\n",
    "println(\"dual1 = \", JuMP.shadow_price(constraint1))\n",
    "println(\"dual2 = \", JuMP.shadow_price(constraint2))"
   ]
  },
  {
   "cell_type": "markdown",
   "metadata": {},
   "source": [
    "제약조건이 많아지면 다음과 같이 Dictionary를 사용하는 게 더 효과적이다."
   ]
  },
  {
   "cell_type": "code",
   "execution_count": 234,
   "metadata": {},
   "outputs": [
    {
     "name": "stdout",
     "output_type": "stream",
     "text": [
      "Coin0506I Presolve 2 (-1) rows, 3 (0) columns and 6 (-1) elements\n",
      "Clp0006I 0  Obj 4.8999999 Primal inf 0.033332367 (1) Dual inf 12.666664 (3)\n",
      "Clp0006I 2  Obj 19.0625\n",
      "Clp0000I Optimal - objective value 19.0625\n",
      "Coin0511I After Postsolve, objective 19.0625, infeasibilities - dual 0 (0), primal 0 (0)\n",
      "Clp0032I Optimal objective 19.0625 - 2 iterations time 0.002, Presolve 0.00\n"
     ]
    }
   ],
   "source": [
    "m = Model(Clp.Optimizer)\n",
    "\n",
    "c = [ 1; 2; 5]\n",
    "A = [-1  1  3;\n",
    "      1  3 -7]\n",
    "b = [-5; 10]\n",
    "\n",
    "index_x = 1:3\n",
    "index_constraints = 1:2\n",
    "\n",
    "@variable(m, x[index_x] >= 0)\n",
    "@objective(m, Max, sum( c[i]*x[i] for i in index_x) )\n",
    "\n",
    "@constraint(m, constraint[j in index_constraints],\n",
    "               sum( A[j,i]*x[i] for i in index_x ) <= b[j] )\n",
    "@constraint(m, bound, x[1] <= 10)\n",
    "\n",
    "JuMP.optimize!(m)"
   ]
  },
  {
   "cell_type": "code",
   "execution_count": 235,
   "metadata": {},
   "outputs": [
    {
     "name": "stdout",
     "output_type": "stream",
     "text": [
      "Optimal Solutions:\n",
      "x[1] = 10.0\n",
      "x[2] = 2.1875\n",
      "x[3] = 0.9374999999999999\n",
      "Dual Variables:\n",
      "dual[1] = 1.8125\n",
      "dual[2] = 0.0625\n"
     ]
    }
   ],
   "source": [
    "println(\"Optimal Solutions:\")\n",
    "for i in 1:3\n",
    "  println(\"x[$i] = \", JuMP.value(x[i]))\n",
    "end\n",
    "\n",
    "println(\"Dual Variables:\")\n",
    "for j in 1:2\n",
    "  println(\"dual[$j] = \", JuMP.shadow_price(constraint[j]))\n",
    "end"
   ]
  },
  {
   "cell_type": "markdown",
   "metadata": {},
   "source": [
    "## 2.4 Mixed Inteer Linear Programming (MILP) Problems\n",
    "\n",
    "$$ \\max x_1 + 2x_2 + 5x_3$$\n",
    "subject to\n",
    "\n",
    "$$\n",
    "\\begin{matrix}\n",
    "-x_1+x_2+3x_3 &\\le& -5 \\\\\n",
    "x_1 +3x_2 -7x_3 &\\le&  10 \\\\\n",
    "0 \\le x_1 &\\le& 10 \\\\\n",
    "x_2 &\\ge& Integer \\\\\n",
    "x_3 &\\in& \\{0, 1\\}\n",
    "\\end{matrix}\n",
    "$$\n",
    "\n",
    "예제에서는 variable마다 타입을 일일이 넣어주었지만 나는 한번에 할당해주는 방법을 찾아보았다.\n",
    "잘 안나와서 정말 애먹었다..ㅠㅠ\n",
    "하... 다행이다!"
   ]
  },
  {
   "cell_type": "code",
   "execution_count": 236,
   "metadata": {},
   "outputs": [
    {
     "name": "stdout",
     "output_type": "stream",
     "text": [
      "Max x[1] + 2 x[2] + 5 x[3]\n",
      "Subject to\n",
      " constraint[1] : -x[1] + x[2] + 3 x[3] ≤ -5.0\n",
      " constraint[2] : x[1] + 3 x[2] - 7 x[3] ≤ 10.0\n",
      " x[1] ≥ 0.0\n",
      " x[2] ≥ 0.0\n",
      " x[3] ≥ 0.0\n",
      " x[1] ≤ 10.0\n",
      " x[2] ≤ Inf\n",
      " x[3] ≤ Inf\n",
      " x[2] integer\n",
      " x[3] binary\n"
     ]
    }
   ],
   "source": [
    "using MathOptInterface\n",
    "const MOI = MathOptInterface\n",
    "using Cbc\n",
    "m = Model(Cbc.Optimizer)\n",
    "\n",
    "c = [ 1; 2; 5]\n",
    "A = [-1  1  3;\n",
    "      1  3 -7]\n",
    "b = [-5; 10]\n",
    "t = Dict(:2=>:Int, :3=>:Bin)\n",
    "lb = [0;0;0]\n",
    "ub = [10;Inf;Inf]\n",
    "index_x = 1:3\n",
    "index_constraints = 1:2\n",
    "\n",
    "@variable(m, x[i in index_x], lower_bound = lb[i], upper_bound=ub[i])\n",
    "for i in keys(t)\n",
    "    if t[i]==:Bin\n",
    "        JuMP.set_binary(x[i])    \n",
    "    elseif t[i] == :Int\n",
    "        JuMP.set_integer(x[i])\n",
    "    end\n",
    "end\n",
    "@objective(m, Max, sum( c[i]*x[i] for i in index_x) )\n",
    "@constraint(m, constraint[j in index_constraints],\n",
    "               sum( A[j,i]*x[i] for i in index_x ) <= b[j] )\n",
    "\n",
    "print(m)\n"
   ]
  },
  {
   "cell_type": "code",
   "execution_count": 237,
   "metadata": {},
   "outputs": [
    {
     "name": "stdout",
     "output_type": "stream",
     "text": [
      "Optimal Solutions:\n",
      "x1 = 10.0\n",
      "x2 = 2.0\n",
      "x3 = 1.0\n",
      "Welcome to the CBC MILP Solver \n",
      "Version: 2.10.3 \n",
      "Build Date: Oct  7 2019 \n",
      "\n",
      "command line - Cbc_C_Interface -solve -quit (default strategy 1)\n",
      "Continuous objective value is 19.0625 - 0.00 seconds\n",
      "Cgl0003I 0 fixed, 1 tightened bounds, 1 strengthened rows, 0 substitutions\n",
      "Cgl0004I processed model has 2 rows, 3 columns (3 integer (1 of which binary)) and 6 elements\n",
      "Cbc0012I Integer solution of -19 found by DiveCoefficient after 0 iterations and 0 nodes (0.00 seconds)\n",
      "Cbc0001I Search completed - best objective -19, took 0 iterations and 0 nodes (0.00 seconds)\n",
      "Cbc0035I Maximum depth 0, 0 variables fixed on reduced cost\n",
      "Cuts at root node changed objective from -19 to -19\n",
      "Probing was tried 0 times and created 0 cuts of which 0 were active after adding rounds of cuts (0.000 seconds)\n",
      "Gomory was tried 0 times and created 0 cuts of which 0 were active after adding rounds of cuts (0.000 seconds)\n",
      "Knapsack was tried 0 times and created 0 cuts of which 0 were active after adding rounds of cuts (0.000 seconds)\n",
      "Clique was tried 0 times and created 0 cuts of which 0 were active after adding rounds of cuts (0.000 seconds)\n",
      "MixedIntegerRounding2 was tried 0 times and created 0 cuts of which 0 were active after adding rounds of cuts (0.000 seconds)\n",
      "FlowCover was tried 0 times and created 0 cuts of which 0 were active after adding rounds of cuts (0.000 seconds)\n",
      "TwoMirCuts was tried 0 times and created 0 cuts of which 0 were active after adding rounds of cuts (0.000 seconds)\n",
      "ZeroHalf was tried 0 times and created 0 cuts of which 0 were active after adding rounds of cuts (0.000 seconds)\n",
      "\n",
      "Result - Optimal solution found\n",
      "\n",
      "Objective value:                19.00000000\n",
      "Enumerated nodes:               0\n",
      "Total iterations:               0\n",
      "Time (CPU seconds):             0.00\n",
      "Time (Wallclock seconds):       0.00\n",
      "\n",
      "Total time (CPU seconds):       0.00   (Wallclock seconds):       0.00\n",
      "\n"
     ]
    }
   ],
   "source": [
    "JuMP.optimize!(m)\n",
    "\n",
    "# Printing the optimal solutions obtained\n",
    "println(\"Optimal Solutions:\")\n",
    "println(\"x1 = \", JuMP.value(x[1]))\n",
    "println(\"x2 = \", JuMP.value(x[2]))\n",
    "println(\"x3 = \", JuMP.value(x[3]))"
   ]
  },
  {
   "cell_type": "markdown",
   "metadata": {},
   "source": [
    "휴... 겨우 했다!!!!!\n",
    "type을 Dictionary로 저장한 후 binary인 경우와 integer인 경우를 구분, set_binary/ set_integer로 할당해주었다!!\n",
    "ㅠㅠ 아이 어려워..!!"
   ]
  }
 ],
 "metadata": {
  "kernelspec": {
   "display_name": "Julia 1.1.0",
   "language": "julia",
   "name": "julia-1.1"
  },
  "language_info": {
   "file_extension": ".jl",
   "mimetype": "application/julia",
   "name": "julia",
   "version": "1.1.0"
  }
 },
 "nbformat": 4,
 "nbformat_minor": 2
}
